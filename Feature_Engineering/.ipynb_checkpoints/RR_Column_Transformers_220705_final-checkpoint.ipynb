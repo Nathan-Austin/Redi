{
 "cells": [
  {
   "cell_type": "markdown",
   "metadata": {},
   "source": [
    "# Feature Engineering II"
   ]
  },
  {
   "cell_type": "markdown",
   "metadata": {},
   "source": [
    "After this encounter you should be able to \n",
    "- understand and apply transformer classes to your datasets,\n",
    "- understand and apply pipeline classes to your dataset,\n",
    "\n",
    "(Concepts are the same as in the intro to FE, how we transform the data is different)"
   ]
  },
  {
   "cell_type": "code",
   "execution_count": 1,
   "metadata": {},
   "outputs": [],
   "source": [
    "# stuff you know already\n",
    "import pandas as pd"
   ]
  },
  {
   "cell_type": "code",
   "execution_count": 2,
   "metadata": {},
   "outputs": [],
   "source": [
    "# new stuff !!\n",
    "from sklearn.linear_model import LogisticRegression\n",
    "from sklearn.model_selection import train_test_split\n",
    "\n",
    "from sklearn.preprocessing import StandardScaler, OneHotEncoder\n",
    "from sklearn.impute import SimpleImputer\n",
    "from sklearn.compose import ColumnTransformer\n",
    "from sklearn.pipeline import Pipeline\n"
   ]
  },
  {
   "cell_type": "markdown",
   "metadata": {},
   "source": [
    "### 1. Get Data"
   ]
  },
  {
   "cell_type": "code",
   "execution_count": 3,
   "metadata": {},
   "outputs": [],
   "source": [
    "df = pd.read_csv(\"all_penguins_clean.csv\")"
   ]
  },
  {
   "cell_type": "code",
   "execution_count": 4,
   "metadata": {},
   "outputs": [
    {
     "name": "stdout",
     "output_type": "stream",
     "text": [
      "<class 'pandas.core.frame.DataFrame'>\n",
      "RangeIndex: 344 entries, 0 to 343\n",
      "Data columns (total 15 columns):\n",
      " #   Column               Non-Null Count  Dtype  \n",
      "---  ------               --------------  -----  \n",
      " 0   studyName            344 non-null    object \n",
      " 1   Sample Number        344 non-null    int64  \n",
      " 2   Species              344 non-null    object \n",
      " 3   Region               344 non-null    object \n",
      " 4   Island               344 non-null    object \n",
      " 5   Stage                344 non-null    object \n",
      " 6   Individual ID        344 non-null    object \n",
      " 7   Clutch Completion    344 non-null    object \n",
      " 8   Date Egg             344 non-null    object \n",
      " 9   Culmen Length (mm)   342 non-null    float64\n",
      " 10  Culmen Depth (mm)    342 non-null    float64\n",
      " 11  Flipper Length (mm)  342 non-null    float64\n",
      " 12  Body Mass (g)        342 non-null    float64\n",
      " 13  Real ID              344 non-null    object \n",
      " 14  Sex                  334 non-null    object \n",
      "dtypes: float64(4), int64(1), object(10)\n",
      "memory usage: 40.4+ KB\n"
     ]
    }
   ],
   "source": [
    "df.info()"
   ]
  },
  {
   "cell_type": "code",
   "execution_count": 5,
   "metadata": {},
   "outputs": [
    {
     "data": {
      "text/html": [
       "<div>\n",
       "<style scoped>\n",
       "    .dataframe tbody tr th:only-of-type {\n",
       "        vertical-align: middle;\n",
       "    }\n",
       "\n",
       "    .dataframe tbody tr th {\n",
       "        vertical-align: top;\n",
       "    }\n",
       "\n",
       "    .dataframe thead th {\n",
       "        text-align: right;\n",
       "    }\n",
       "</style>\n",
       "<table border=\"1\" class=\"dataframe\">\n",
       "  <thead>\n",
       "    <tr style=\"text-align: right;\">\n",
       "      <th></th>\n",
       "      <th>studyName</th>\n",
       "      <th>Sample Number</th>\n",
       "      <th>Species</th>\n",
       "      <th>Region</th>\n",
       "      <th>Island</th>\n",
       "      <th>Stage</th>\n",
       "      <th>Individual ID</th>\n",
       "      <th>Clutch Completion</th>\n",
       "      <th>Date Egg</th>\n",
       "      <th>Culmen Length (mm)</th>\n",
       "      <th>Culmen Depth (mm)</th>\n",
       "      <th>Flipper Length (mm)</th>\n",
       "      <th>Body Mass (g)</th>\n",
       "      <th>Real ID</th>\n",
       "      <th>Sex</th>\n",
       "    </tr>\n",
       "  </thead>\n",
       "  <tbody>\n",
       "    <tr>\n",
       "      <th>0</th>\n",
       "      <td>PAL0708</td>\n",
       "      <td>1</td>\n",
       "      <td>Adelie</td>\n",
       "      <td>Anvers</td>\n",
       "      <td>Torgersen</td>\n",
       "      <td>Adult, 1 Egg Stage</td>\n",
       "      <td>N1A1</td>\n",
       "      <td>Yes</td>\n",
       "      <td>11/11/07</td>\n",
       "      <td>39.1</td>\n",
       "      <td>18.7</td>\n",
       "      <td>181.0</td>\n",
       "      <td>3750.0</td>\n",
       "      <td>A_0</td>\n",
       "      <td>MALE</td>\n",
       "    </tr>\n",
       "    <tr>\n",
       "      <th>1</th>\n",
       "      <td>PAL0708</td>\n",
       "      <td>2</td>\n",
       "      <td>Adelie</td>\n",
       "      <td>Anvers</td>\n",
       "      <td>Torgersen</td>\n",
       "      <td>Adult, 1 Egg Stage</td>\n",
       "      <td>N1A2</td>\n",
       "      <td>Yes</td>\n",
       "      <td>11/11/07</td>\n",
       "      <td>39.5</td>\n",
       "      <td>17.4</td>\n",
       "      <td>186.0</td>\n",
       "      <td>3800.0</td>\n",
       "      <td>A_1</td>\n",
       "      <td>FEMALE</td>\n",
       "    </tr>\n",
       "    <tr>\n",
       "      <th>2</th>\n",
       "      <td>PAL0708</td>\n",
       "      <td>3</td>\n",
       "      <td>Adelie</td>\n",
       "      <td>Anvers</td>\n",
       "      <td>Torgersen</td>\n",
       "      <td>Adult, 1 Egg Stage</td>\n",
       "      <td>N2A1</td>\n",
       "      <td>Yes</td>\n",
       "      <td>11/16/07</td>\n",
       "      <td>40.3</td>\n",
       "      <td>18.0</td>\n",
       "      <td>195.0</td>\n",
       "      <td>3250.0</td>\n",
       "      <td>A_2</td>\n",
       "      <td>FEMALE</td>\n",
       "    </tr>\n",
       "    <tr>\n",
       "      <th>3</th>\n",
       "      <td>PAL0708</td>\n",
       "      <td>4</td>\n",
       "      <td>Adelie</td>\n",
       "      <td>Anvers</td>\n",
       "      <td>Torgersen</td>\n",
       "      <td>Adult, 1 Egg Stage</td>\n",
       "      <td>N2A2</td>\n",
       "      <td>Yes</td>\n",
       "      <td>11/16/07</td>\n",
       "      <td>NaN</td>\n",
       "      <td>NaN</td>\n",
       "      <td>NaN</td>\n",
       "      <td>NaN</td>\n",
       "      <td>A_3</td>\n",
       "      <td>NaN</td>\n",
       "    </tr>\n",
       "    <tr>\n",
       "      <th>4</th>\n",
       "      <td>PAL0708</td>\n",
       "      <td>5</td>\n",
       "      <td>Adelie</td>\n",
       "      <td>Anvers</td>\n",
       "      <td>Torgersen</td>\n",
       "      <td>Adult, 1 Egg Stage</td>\n",
       "      <td>N3A1</td>\n",
       "      <td>Yes</td>\n",
       "      <td>11/16/07</td>\n",
       "      <td>36.7</td>\n",
       "      <td>19.3</td>\n",
       "      <td>193.0</td>\n",
       "      <td>3450.0</td>\n",
       "      <td>A_4</td>\n",
       "      <td>FEMALE</td>\n",
       "    </tr>\n",
       "    <tr>\n",
       "      <th>...</th>\n",
       "      <td>...</td>\n",
       "      <td>...</td>\n",
       "      <td>...</td>\n",
       "      <td>...</td>\n",
       "      <td>...</td>\n",
       "      <td>...</td>\n",
       "      <td>...</td>\n",
       "      <td>...</td>\n",
       "      <td>...</td>\n",
       "      <td>...</td>\n",
       "      <td>...</td>\n",
       "      <td>...</td>\n",
       "      <td>...</td>\n",
       "      <td>...</td>\n",
       "      <td>...</td>\n",
       "    </tr>\n",
       "    <tr>\n",
       "      <th>339</th>\n",
       "      <td>PAL0910</td>\n",
       "      <td>120</td>\n",
       "      <td>Gentoo</td>\n",
       "      <td>Anvers</td>\n",
       "      <td>Biscoe</td>\n",
       "      <td>Adult, 1 Egg Stage</td>\n",
       "      <td>N38A2</td>\n",
       "      <td>No</td>\n",
       "      <td>12/1/09</td>\n",
       "      <td>NaN</td>\n",
       "      <td>NaN</td>\n",
       "      <td>NaN</td>\n",
       "      <td>NaN</td>\n",
       "      <td>G_339</td>\n",
       "      <td>NaN</td>\n",
       "    </tr>\n",
       "    <tr>\n",
       "      <th>340</th>\n",
       "      <td>PAL0910</td>\n",
       "      <td>121</td>\n",
       "      <td>Gentoo</td>\n",
       "      <td>Anvers</td>\n",
       "      <td>Biscoe</td>\n",
       "      <td>Adult, 1 Egg Stage</td>\n",
       "      <td>N39A1</td>\n",
       "      <td>Yes</td>\n",
       "      <td>11/22/09</td>\n",
       "      <td>46.8</td>\n",
       "      <td>14.3</td>\n",
       "      <td>215.0</td>\n",
       "      <td>4850.0</td>\n",
       "      <td>G_340</td>\n",
       "      <td>FEMALE</td>\n",
       "    </tr>\n",
       "    <tr>\n",
       "      <th>341</th>\n",
       "      <td>PAL0910</td>\n",
       "      <td>122</td>\n",
       "      <td>Gentoo</td>\n",
       "      <td>Anvers</td>\n",
       "      <td>Biscoe</td>\n",
       "      <td>Adult, 1 Egg Stage</td>\n",
       "      <td>N39A2</td>\n",
       "      <td>Yes</td>\n",
       "      <td>11/22/09</td>\n",
       "      <td>50.4</td>\n",
       "      <td>15.7</td>\n",
       "      <td>222.0</td>\n",
       "      <td>5750.0</td>\n",
       "      <td>G_341</td>\n",
       "      <td>MALE</td>\n",
       "    </tr>\n",
       "    <tr>\n",
       "      <th>342</th>\n",
       "      <td>PAL0910</td>\n",
       "      <td>123</td>\n",
       "      <td>Gentoo</td>\n",
       "      <td>Anvers</td>\n",
       "      <td>Biscoe</td>\n",
       "      <td>Adult, 1 Egg Stage</td>\n",
       "      <td>N43A1</td>\n",
       "      <td>Yes</td>\n",
       "      <td>11/22/09</td>\n",
       "      <td>45.2</td>\n",
       "      <td>14.8</td>\n",
       "      <td>212.0</td>\n",
       "      <td>5200.0</td>\n",
       "      <td>G_342</td>\n",
       "      <td>FEMALE</td>\n",
       "    </tr>\n",
       "    <tr>\n",
       "      <th>343</th>\n",
       "      <td>PAL0910</td>\n",
       "      <td>124</td>\n",
       "      <td>Gentoo</td>\n",
       "      <td>Anvers</td>\n",
       "      <td>Biscoe</td>\n",
       "      <td>Adult, 1 Egg Stage</td>\n",
       "      <td>N43A2</td>\n",
       "      <td>Yes</td>\n",
       "      <td>11/22/09</td>\n",
       "      <td>49.9</td>\n",
       "      <td>16.1</td>\n",
       "      <td>213.0</td>\n",
       "      <td>5400.0</td>\n",
       "      <td>G_343</td>\n",
       "      <td>MALE</td>\n",
       "    </tr>\n",
       "  </tbody>\n",
       "</table>\n",
       "<p>344 rows × 15 columns</p>\n",
       "</div>"
      ],
      "text/plain": [
       "    studyName  Sample Number Species  Region     Island               Stage  \\\n",
       "0     PAL0708              1  Adelie  Anvers  Torgersen  Adult, 1 Egg Stage   \n",
       "1     PAL0708              2  Adelie  Anvers  Torgersen  Adult, 1 Egg Stage   \n",
       "2     PAL0708              3  Adelie  Anvers  Torgersen  Adult, 1 Egg Stage   \n",
       "3     PAL0708              4  Adelie  Anvers  Torgersen  Adult, 1 Egg Stage   \n",
       "4     PAL0708              5  Adelie  Anvers  Torgersen  Adult, 1 Egg Stage   \n",
       "..        ...            ...     ...     ...        ...                 ...   \n",
       "339   PAL0910            120  Gentoo  Anvers     Biscoe  Adult, 1 Egg Stage   \n",
       "340   PAL0910            121  Gentoo  Anvers     Biscoe  Adult, 1 Egg Stage   \n",
       "341   PAL0910            122  Gentoo  Anvers     Biscoe  Adult, 1 Egg Stage   \n",
       "342   PAL0910            123  Gentoo  Anvers     Biscoe  Adult, 1 Egg Stage   \n",
       "343   PAL0910            124  Gentoo  Anvers     Biscoe  Adult, 1 Egg Stage   \n",
       "\n",
       "    Individual ID Clutch Completion  Date Egg  Culmen Length (mm)  \\\n",
       "0            N1A1               Yes  11/11/07                39.1   \n",
       "1            N1A2               Yes  11/11/07                39.5   \n",
       "2            N2A1               Yes  11/16/07                40.3   \n",
       "3            N2A2               Yes  11/16/07                 NaN   \n",
       "4            N3A1               Yes  11/16/07                36.7   \n",
       "..            ...               ...       ...                 ...   \n",
       "339         N38A2                No   12/1/09                 NaN   \n",
       "340         N39A1               Yes  11/22/09                46.8   \n",
       "341         N39A2               Yes  11/22/09                50.4   \n",
       "342         N43A1               Yes  11/22/09                45.2   \n",
       "343         N43A2               Yes  11/22/09                49.9   \n",
       "\n",
       "     Culmen Depth (mm)  Flipper Length (mm)  Body Mass (g) Real ID     Sex  \n",
       "0                 18.7                181.0         3750.0     A_0    MALE  \n",
       "1                 17.4                186.0         3800.0     A_1  FEMALE  \n",
       "2                 18.0                195.0         3250.0     A_2  FEMALE  \n",
       "3                  NaN                  NaN            NaN     A_3     NaN  \n",
       "4                 19.3                193.0         3450.0     A_4  FEMALE  \n",
       "..                 ...                  ...            ...     ...     ...  \n",
       "339                NaN                  NaN            NaN   G_339     NaN  \n",
       "340               14.3                215.0         4850.0   G_340  FEMALE  \n",
       "341               15.7                222.0         5750.0   G_341    MALE  \n",
       "342               14.8                212.0         5200.0   G_342  FEMALE  \n",
       "343               16.1                213.0         5400.0   G_343    MALE  \n",
       "\n",
       "[344 rows x 15 columns]"
      ]
     },
     "execution_count": 5,
     "metadata": {},
     "output_type": "execute_result"
    }
   ],
   "source": [
    "df"
   ]
  },
  {
   "cell_type": "code",
   "execution_count": 6,
   "metadata": {},
   "outputs": [],
   "source": [
    "df = df[\n",
    "    ~df[\"Real ID\"].isin([\"A_3\",\"G_339\"])\n",
    "    ]"
   ]
  },
  {
   "cell_type": "code",
   "execution_count": 7,
   "metadata": {},
   "outputs": [
    {
     "data": {
      "text/plain": [
       "studyName              0\n",
       "Sample Number          0\n",
       "Species                0\n",
       "Region                 0\n",
       "Island                 0\n",
       "Stage                  0\n",
       "Individual ID          0\n",
       "Clutch Completion      0\n",
       "Date Egg               0\n",
       "Culmen Length (mm)     0\n",
       "Culmen Depth (mm)      0\n",
       "Flipper Length (mm)    0\n",
       "Body Mass (g)          0\n",
       "Real ID                0\n",
       "Sex                    8\n",
       "dtype: int64"
      ]
     },
     "execution_count": 7,
     "metadata": {},
     "output_type": "execute_result"
    }
   ],
   "source": [
    "df.isna().sum()"
   ]
  },
  {
   "cell_type": "markdown",
   "metadata": {},
   "source": [
    "### 2. Train-Test Split"
   ]
  },
  {
   "cell_type": "code",
   "execution_count": 8,
   "metadata": {},
   "outputs": [],
   "source": [
    "X = df[[\"Region\",\"Sex\", \"Flipper Length (mm)\", \"Body Mass (g)\"]]\n",
    "y = df[\"Species\"]"
   ]
  },
  {
   "cell_type": "code",
   "execution_count": 9,
   "metadata": {},
   "outputs": [
    {
     "data": {
      "text/plain": [
       "((256, 4), (86, 4), (256,), (86,))"
      ]
     },
     "execution_count": 9,
     "metadata": {},
     "output_type": "execute_result"
    }
   ],
   "source": [
    "X_train, X_test, y_train, y_test = train_test_split(X,y, random_state=42)\n",
    "X_train.shape, X_test.shape, y_train.shape, y_test.shape"
   ]
  },
  {
   "cell_type": "markdown",
   "metadata": {},
   "source": [
    "### 3. Explore the Data"
   ]
  },
  {
   "cell_type": "markdown",
   "metadata": {},
   "source": [
    "### 4. Feature Engineering"
   ]
  },
  {
   "cell_type": "code",
   "execution_count": 10,
   "metadata": {},
   "outputs": [],
   "source": [
    "numeric = [\"Flipper Length (mm)\", \"Body Mass (g)\"]\n",
    "categoricals = [\"Region\", \"Sex\"]"
   ]
  },
  {
   "cell_type": "markdown",
   "metadata": {},
   "source": [
    "4.1 Use Column Transformers to transform cols of different data types"
   ]
  },
  {
   "cell_type": "code",
   "execution_count": 11,
   "metadata": {},
   "outputs": [],
   "source": [
    "initial_transformation = ColumnTransformer( # we pass a list of tuples, with a descriptor, the Class we want to call and the col we want to transform\n",
    "    [\n",
    "        (\"imputer\", SimpleImputer(strategy=\"most_frequent\"), [\"Sex\"]),\n",
    "        (\"encoder\", OneHotEncoder(handle_unknown=\"ignore\", sparse=False), [\"Region\"]),\n",
    "        (\"scaler\", StandardScaler(), numeric),\n",
    "    ]\n",
    ")"
   ]
  },
  {
   "cell_type": "code",
   "execution_count": 12,
   "metadata": {},
   "outputs": [],
   "source": [
    "X_train_FE = initial_transformation.fit_transform(X_train)\n"
   ]
  },
  {
   "cell_type": "code",
   "execution_count": 13,
   "metadata": {},
   "outputs": [
    {
     "data": {
      "text/plain": [
       "array([['FEMALE', 1.0, 0.5695209023045531, 0.7542782882268587],\n",
       "       ['MALE', 1.0, -0.15224816200220725, -0.5495598068372238],\n",
       "       ['FEMALE', 1.0, -0.7296634134476155, -0.39055516109770155],\n",
       "       ['MALE', 1.0, -0.36877888129423536, 0.2454634218603875],\n",
       "       ['MALE', 1.0, -0.4409557877249114, 0.11825970526876968],\n",
       "       ['FEMALE', 1.0, 0.497343995873877, 0.11825970526876968],\n",
       "       ['MALE', 1.0, -0.00789434914085519, 0.11825970526876968],\n",
       "       ['FEMALE', 1.0, -0.7296634134476155, -0.6449625942809372],\n",
       "       ['MALE', 1.0, 1.5078206859033414, 1.962713595847228],\n",
       "       ['MALE', 1.0, -1.3070786648930237, -0.8357681691683638],\n",
       "       ['MALE', 1.0, -0.15224816200220725, -0.2633514445060837],\n",
       "       ['MALE', 1.0, 1.0025823408886092, 1.5175005877765655],\n",
       "       ['FEMALE', 1.0, 0.5695209023045531, 0.4998708550436231],\n",
       "       ['MALE', 1.0, 1.0025823408886092, 1.3902968711849477],\n",
       "       ['FEMALE', 1.0, -0.2244250684328833, -0.4859579485414149],\n",
       "       ['MALE', 1.0, -0.36877888129423536, -0.39055516109770155],\n",
       "       ['MALE', 1.0, -0.8740172263089676, -1.121976531499504],\n",
       "       ['FEMALE', 1.0, -0.4409557877249114, -0.9629718857599817],\n",
       "       ['FEMALE', 1.0, -1.667963197046404, -1.2173793189432174],\n",
       "       ['FEMALE', 1.0, -1.0905479456009957, -1.1537774606474085],\n",
       "       ['FEMALE', 1.0, -0.5853096005862635, -0.7721663108725549],\n",
       "       ['FEMALE', 1.0, -1.0905479456009957, -0.8357681691683638],\n",
       "       ['FEMALE', 1.0, 0.7860516215965812, 0.6906764299310498],\n",
       "       ['FEMALE', 1.0, -1.0183710391703196, -1.3445830355348352],\n",
       "       ['MALE', 1.0, -0.8018403198782915, 0.05465784697296078],\n",
       "       ['MALE', 1.0, 0.28081327658184896, 0.11825970526876968],\n",
       "       ['MALE', 1.0, -0.2966019748635593, 0.7224773590789543],\n",
       "       ['MALE', 1.0, -0.7296634134476155, -1.0265737440557905],\n",
       "       ['FEMALE', 1.0, -0.5853096005862635, -1.0265737440557905],\n",
       "       ['FEMALE', 1.0, 1.5078206859033414, 0.849681075670572],\n",
       "       ['FEMALE', 1.0, -0.08007125557153122, -1.0265737440557905],\n",
       "       ['FEMALE', 1.0, -1.3792555713236998, -1.3445830355348352],\n",
       "       ['MALE', 1.0, -1.2349017584623476, -0.8357681691683638],\n",
       "       ['FEMALE', 1.0, 0.8582285280272571, 0.9450838631142854],\n",
       "       ['MALE', 1.0, -0.4409557877249114, -0.2633514445060837],\n",
       "       ['FEMALE', 1.0, -1.451432477754376, -0.7403653817246505],\n",
       "       ['MALE', 1.0, 0.06428255728982084, -0.5177588776893194],\n",
       "       ['FEMALE', 1.0, 0.8582285280272571, 0.563472713339432],\n",
       "       ['MALE', 1.0, -0.7296634134476155, 0.4998708550436231],\n",
       "       ['MALE', 1.0, -1.2349017584623476, -0.39055516109770155],\n",
       "       ['MALE', 1.0, -0.5131326941555874, -0.8357681691683638],\n",
       "       ['FEMALE', 1.0, -0.5853096005862635, -0.9629718857599817],\n",
       "       ['MALE', 1.0, 1.3634668730419894, 1.5175005877765655],\n",
       "       ['MALE', 1.0, 0.497343995873877, 1.4538987294807566],\n",
       "       ['FEMALE', 1.0, -1.5957862906157279, -1.5671895395701663],\n",
       "       ['FEMALE', 1.0, -0.36877888129423536, -0.8993700274641728],\n",
       "       ['MALE', 1.0, 1.5799975923340175, 1.7083061626639924],\n",
       "       ['MALE', 1.0, 1.7243514051953697, 1.5175005877765655],\n",
       "       ['FEMALE', 1.0, -0.8018403198782915, -0.6449625942809372],\n",
       "       ['FEMALE', 1.0, -0.4409557877249114, -1.121976531499504],\n",
       "       ['FEMALE', 1.0, 0.6416978087352291, 0.2454634218603875],\n",
       "       ['FEMALE', 1.0, -1.0183710391703196, -1.0901756023515996],\n",
       "       ['FEMALE', 1.0, 0.6416978087352291, -0.008944011322848127],\n",
       "       ['MALE', 1.0, -0.5853096005862635, -0.008944011322848127],\n",
       "       ['FEMALE', 1.0, -1.2349017584623476, -1.7261941853096885],\n",
       "       ['MALE', 1.0, -1.0183710391703196, -1.2173793189432174],\n",
       "       ['FEMALE', 1.0, -1.451432477754376, -1.7261941853096885],\n",
       "       ['MALE', 1.0, 2.0852359373487497, 2.0899173124388457],\n",
       "       ['MALE', 1.0, 2.0130590309180736, 2.026315454143037],\n",
       "       ['MALE', 1.0, -1.3792555713236998, -0.9947728149078862],\n",
       "       ['FEMALE', 1.0, 0.9304054344579332, 0.563472713339432],\n",
       "       ['MALE', 1.0, 1.2912899666113133, 1.6447043043681835],\n",
       "       ['FEMALE', 1.0, 1.2912899666113133, 0.8178801465226676],\n",
       "       ['MALE', 1.0, 1.1469361537499614, 2.0899173124388457],\n",
       "       ['FEMALE', 1.0, -1.0183710391703196, -1.6625923270138796],\n",
       "       ['MALE', 1.0, -0.2966019748635593, -0.07254586961865703],\n",
       "       ['FEMALE', 1.0, -0.7296634134476155, -0.6449625942809372],\n",
       "       ['MALE', 1.0, -0.2966019748635593, 0.3726671384520053],\n",
       "       ['MALE', 1.0, -0.9461941327396436, -0.13614772791446594],\n",
       "       ['MALE', 1.0, -0.36877888129423536, -0.1679486570623704],\n",
       "       ['FEMALE', 1.0, -0.5853096005862635, -0.9311709566120773],\n",
       "       ['FEMALE', 1.0, -1.1627248520316718, -1.0265737440557905],\n",
       "       ['MALE', 1.0, 2.0852359373487497, 1.6447043043681835],\n",
       "       ['MALE', 1.0, 1.9408821244873977, 1.7719080209598013],\n",
       "       ['MALE', 1.0, 1.4356437794726655, 1.5811024460723744],\n",
       "       ['FEMALE', 1.0, -1.0183710391703196, -0.8357681691683638],\n",
       "       ['MALE', 1.0, 1.9408821244873977, 1.6447043043681835],\n",
       "       ['FEMALE', 1.0, -0.5131326941555874, -0.8675690983162684],\n",
       "       ['FEMALE', 1.0, 0.6416978087352291, 0.6270745716352409],\n",
       "       ['MALE', 1.0, -0.4409557877249114, 0.2454634218603875],\n",
       "       ['FEMALE', 1.0, -1.3070786648930237, -1.4399858229785485],\n",
       "       ['MALE', 1.0, 1.5078206859033414, 1.4538987294807566],\n",
       "       ['MALE', 1.0, 0.497343995873877, 0.11825970526876968],\n",
       "       ['MALE', 1.0, 2.1574128437794258, 1.8355098792556102],\n",
       "       ['MALE', 1.0, -0.5853096005862635, -0.5813607359851283],\n",
       "       ['FEMALE', 1.0, -1.2349017584623476, -1.121976531499504]],\n",
       "      dtype=object)"
      ]
     },
     "execution_count": 13,
     "metadata": {},
     "output_type": "execute_result"
    }
   ],
   "source": [
    "initial_transformation.transform(X_test)"
   ]
  },
  {
   "cell_type": "code",
   "execution_count": 14,
   "metadata": {},
   "outputs": [],
   "source": [
    "clf = LogisticRegression()"
   ]
  },
  {
   "cell_type": "code",
   "execution_count": 15,
   "metadata": {},
   "outputs": [],
   "source": [
    "#clf.fit(X_train_FE, y_train) doesn't work cos we need to further \"feature engineer\" to account for a linear model"
   ]
  },
  {
   "cell_type": "markdown",
   "metadata": {},
   "source": [
    "- making predictions with a linear model will raise an error, cos we need to pass numeric data to it. \n",
    "- this means that we need to transform the \"Sex\"-column in addition to imputation (i.e. \"one-hot-encoding\").\n",
    "=> using the Pipeline class of sklearn we can do this in one go."
   ]
  },
  {
   "cell_type": "markdown",
   "metadata": {},
   "source": [
    "4.2 Use pipelines for applying transformations in steps"
   ]
  },
  {
   "cell_type": "code",
   "execution_count": 16,
   "metadata": {},
   "outputs": [],
   "source": [
    "pipeline_sex = Pipeline( # again we pass tuples but without the need to specify a col (since we do that in the ColumnTransformer())\n",
    "    [\n",
    "        (\"imputer\", SimpleImputer(strategy=\"most_frequent\")),\n",
    "        (\"encoder\", OneHotEncoder(handle_unknown=\"ignore\", sparse=False, drop=\"if_binary\"))\n",
    "    ]\n",
    ")"
   ]
  },
  {
   "cell_type": "code",
   "execution_count": 17,
   "metadata": {},
   "outputs": [],
   "source": [
    "final_transformation = ColumnTransformer(\n",
    "    [\n",
    "        (\"transform twice Sex-col\", pipeline_sex, [\"Sex\"]),\n",
    "        (\"encoder\", OneHotEncoder(handle_unknown=\"ignore\", sparse=False), [\"Region\"]),\n",
    "        (\"scaler\", StandardScaler(), numeric),\n",
    "    ]\n",
    ")"
   ]
  },
  {
   "cell_type": "code",
   "execution_count": 18,
   "metadata": {},
   "outputs": [],
   "source": [
    "X_train_FE = final_transformation.fit_transform(X_train)"
   ]
  },
  {
   "cell_type": "code",
   "execution_count": 19,
   "metadata": {},
   "outputs": [],
   "source": [
    "X_test_FE = final_transformation.transform(X_test)"
   ]
  },
  {
   "cell_type": "code",
   "execution_count": 20,
   "metadata": {},
   "outputs": [
    {
     "data": {
      "text/plain": [
       "LogisticRegression()"
      ]
     },
     "execution_count": 20,
     "metadata": {},
     "output_type": "execute_result"
    }
   ],
   "source": [
    "clf.fit(X_train_FE, y_train)"
   ]
  },
  {
   "cell_type": "code",
   "execution_count": 25,
   "metadata": {},
   "outputs": [
    {
     "data": {
      "text/plain": [
       "array([[4.96623617e-03, 2.32063731e-02, 9.71827391e-01],\n",
       "       [4.88157670e-01, 5.07972636e-01, 3.86969427e-03],\n",
       "       [6.93176652e-01, 2.84660918e-01, 2.21624303e-02],\n",
       "       [6.65521064e-01, 3.21082574e-01, 1.33963626e-02],\n",
       "       [6.93425689e-01, 2.99201731e-01, 7.37258017e-03],\n",
       "       [2.76075681e-02, 1.39176928e-01, 8.33215504e-01],\n",
       "       [4.55719814e-01, 5.09074731e-01, 3.52054549e-02],\n",
       "       [6.81054969e-01, 3.07178672e-01, 1.17663589e-02],\n",
       "       [1.44041875e-04, 2.27632584e-03, 9.97579632e-01],\n",
       "       [9.16149562e-01, 8.38320902e-02, 1.83474311e-05],\n",
       "       [5.12229440e-01, 4.79655182e-01, 8.11537879e-03],\n",
       "       [4.15996331e-03, 2.55347240e-02, 9.70305313e-01],\n",
       "       [8.93859628e-03, 4.58748015e-02, 9.45186602e-01],\n",
       "       [5.58994634e-03, 3.59593468e-02, 9.58450707e-01],\n",
       "       [3.92606361e-01, 5.06624063e-01, 1.00769576e-01],\n",
       "       [6.19489320e-01, 3.77834132e-01, 2.67654828e-03],\n",
       "       [7.91559303e-01, 2.08383066e-01, 5.76311245e-05],\n",
       "       [5.03478638e-01, 4.81403373e-01, 1.51179895e-02],\n",
       "       [9.33728201e-01, 6.62168332e-02, 5.49656369e-05],\n",
       "       [8.01779603e-01, 1.97445678e-01, 7.74718876e-04],\n",
       "       [5.97497341e-01, 3.87805390e-01, 1.46972684e-02],\n",
       "       [8.18929101e-01, 1.79362940e-01, 1.70795865e-03],\n",
       "       [2.16944175e-03, 1.66981695e-02, 9.81132389e-01],\n",
       "       [7.63102799e-01, 2.36250452e-01, 6.46749017e-04],\n",
       "       [8.32170664e-01, 1.66376355e-01, 1.45298078e-03],\n",
       "       [2.94464840e-01, 6.20197550e-01, 8.53376102e-02],\n",
       "       [6.39786399e-01, 3.03377836e-01, 5.68357649e-02],\n",
       "       [7.41197475e-01, 2.58670866e-01, 1.31658115e-04],\n",
       "       [5.79324066e-01, 4.12975615e-01, 7.70031848e-03],\n",
       "       [5.51047714e-05, 1.95249259e-03, 9.97992403e-01],\n",
       "       [3.03305512e-01, 6.55927499e-01, 4.07669891e-02],\n",
       "       [8.76970018e-01, 1.22887620e-01, 1.42361891e-04],\n",
       "       [9.03135842e-01, 9.68389867e-02, 2.51715936e-05],\n",
       "       [8.51798466e-04, 6.99497223e-03, 9.92153229e-01],\n",
       "       [6.66278164e-01, 3.30907961e-01, 2.81387538e-03],\n",
       "       [9.12232965e-01, 8.73080110e-02, 4.59024281e-04],\n",
       "       [3.73428148e-01, 6.17954298e-01, 8.61755403e-03],\n",
       "       [2.11361726e-03, 1.99785033e-02, 9.77907879e-01],\n",
       "       [8.29217170e-01, 1.64866353e-01, 5.91647699e-03],\n",
       "       [9.16523811e-01, 8.34011822e-02, 7.50067014e-05],\n",
       "       [6.56101369e-01, 3.43400187e-01, 4.98443608e-04],\n",
       "       [5.84165586e-01, 4.06778100e-01, 9.05631394e-03],\n",
       "       [8.11474828e-04, 1.10048197e-02, 9.88183705e-01],\n",
       "       [4.37678351e-02, 9.06578218e-02, 8.65574343e-01],\n",
       "       [9.13599676e-01, 8.63682160e-02, 3.21084517e-05],\n",
       "       [4.66591798e-01, 5.10666277e-01, 2.27419248e-02],\n",
       "       [1.91218662e-04, 3.88914515e-03, 9.95919636e-01],\n",
       "       [1.56525021e-04, 4.68983826e-03, 9.95153637e-01],\n",
       "       [7.15655252e-01, 2.75460615e-01, 8.88413281e-03],\n",
       "       [4.91568219e-01, 4.98385026e-01, 1.00467554e-02],\n",
       "       [1.14775706e-02, 7.58111463e-02, 9.12711283e-01],\n",
       "       [7.79150755e-01, 2.19627199e-01, 1.22204657e-03],\n",
       "       [1.95217327e-02, 1.41620600e-01, 8.38857668e-01],\n",
       "       [7.49986816e-01, 2.46986835e-01, 3.02634858e-03],\n",
       "       [8.18601152e-01, 1.81296611e-01, 1.02237106e-04],\n",
       "       [8.34297027e-01, 1.65678076e-01, 2.48974155e-05],\n",
       "       [8.78973726e-01, 1.20985549e-01, 4.07254464e-05],\n",
       "       [7.53903292e-06, 4.04133410e-04, 9.99588328e-01],\n",
       "       [1.22353769e-05, 5.72999799e-04, 9.99414765e-01],\n",
       "       [9.23521045e-01, 7.64699099e-02, 9.04557089e-06],\n",
       "       [1.52443900e-03, 1.68849545e-02, 9.81590607e-01],\n",
       "       [8.31682366e-04, 9.18437579e-03, 9.89983942e-01],\n",
       "       [1.60140152e-04, 3.56805320e-03, 9.96271807e-01],\n",
       "       [5.51758419e-04, 3.76587527e-03, 9.95682366e-01],\n",
       "       [7.41572358e-01, 2.58136460e-01, 2.91181882e-04],\n",
       "       [6.06566680e-01, 3.85560860e-01, 7.87246011e-03],\n",
       "       [6.81054969e-01, 3.07178672e-01, 1.17663589e-02],\n",
       "       [6.33893357e-01, 3.41949431e-01, 2.41572114e-02],\n",
       "       [8.64467944e-01, 1.35040906e-01, 4.91149517e-04],\n",
       "       [6.37239013e-01, 3.58043150e-01, 4.71783725e-03],\n",
       "       [5.86521031e-01, 4.03658928e-01, 9.82004056e-03],\n",
       "       [8.32311424e-01, 1.66902466e-01, 7.86109438e-04],\n",
       "       [2.21144658e-05, 1.39686447e-03, 9.98581021e-01],\n",
       "       [3.14861484e-05, 1.38206473e-03, 9.98586449e-01],\n",
       "       [5.01701116e-04, 7.78798214e-03, 9.91710317e-01],\n",
       "       [7.93933336e-01, 2.03762233e-01, 2.30443165e-03],\n",
       "       [4.28071147e-05, 1.96918850e-03, 9.97988004e-01],\n",
       "       [5.50978230e-01, 4.34047652e-01, 1.49741183e-02],\n",
       "       [4.83246559e-03, 2.77309279e-02, 9.67436606e-01],\n",
       "       [7.01172125e-01, 2.88686403e-01, 1.01414718e-02],\n",
       "       [8.54512793e-01, 1.45333946e-01, 1.53261737e-04],\n",
       "       [4.89644327e-04, 9.33418356e-03, 9.90176172e-01],\n",
       "       [1.93421168e-01, 6.55481335e-01, 1.51097497e-01],\n",
       "       [1.00220026e-05, 6.91419849e-04, 9.99298558e-01],\n",
       "       [7.10384258e-01, 2.88898107e-01, 7.17634324e-04],\n",
       "       [8.49045948e-01, 1.50496609e-01, 4.57443045e-04]])"
      ]
     },
     "execution_count": 25,
     "metadata": {},
     "output_type": "execute_result"
    }
   ],
   "source": [
    "# clf.predict_proba(X_test_FE)"
   ]
  },
  {
   "cell_type": "code",
   "execution_count": 23,
   "metadata": {},
   "outputs": [
    {
     "data": {
      "text/plain": [
       "0.828125"
      ]
     },
     "execution_count": 23,
     "metadata": {},
     "output_type": "execute_result"
    }
   ],
   "source": [
    "clf.score(X_train_FE, y_train) # note how sklearn implements the predictions and the scores them \"under the hood\", so need to call m.predict()"
   ]
  },
  {
   "cell_type": "code",
   "execution_count": 24,
   "metadata": {},
   "outputs": [
    {
     "data": {
      "text/plain": [
       "0.8372093023255814"
      ]
     },
     "execution_count": 24,
     "metadata": {},
     "output_type": "execute_result"
    }
   ],
   "source": [
    "clf.score(X_test_FE, y_test)"
   ]
  },
  {
   "cell_type": "code",
   "execution_count": null,
   "metadata": {},
   "outputs": [],
   "source": []
  }
 ],
 "metadata": {
  "kernelspec": {
   "display_name": "Python 3",
   "language": "python",
   "name": "python3"
  },
  "language_info": {
   "codemirror_mode": {
    "name": "ipython",
    "version": 3
   },
   "file_extension": ".py",
   "mimetype": "text/x-python",
   "name": "python",
   "nbconvert_exporter": "python",
   "pygments_lexer": "ipython3",
   "version": "3.7.6"
  },
  "vscode": {
   "interpreter": {
    "hash": "d1b2e6a66c7e8de24e88ad9589f548d7c8600ae36e45725b96b0d219caf4b36b"
   }
  }
 },
 "nbformat": 4,
 "nbformat_minor": 4
}
