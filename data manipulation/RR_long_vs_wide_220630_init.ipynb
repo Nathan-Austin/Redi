{
 "cells": [
  {
   "cell_type": "markdown",
   "metadata": {},
   "source": [
    "# Long Format and Wide Format"
   ]
  },
  {
   "cell_type": "markdown",
   "metadata": {},
   "source": [
    "## Additional Learning Resources\n",
    "Refer to [scikit-learn documentation](https://scikit-learn.org/stable/) and the [Pandas user guide](https://pandas.pydata.org/docs/) for detailed explanations of the functions used in this notebook.\n",
    "For a quick refresher on splitting data:\n",
    "```python\nfrom sklearn.model_selection import train_test_split\nX_train, X_test, y_train, y_test = train_test_split(X, y, test_size=0.2, random_state=42)\n```\n"
   ]
  },
  {
   "cell_type": "markdown",
   "metadata": {},
   "source": [
    "After this encounter you will \n",
    "- develop an understanding of what is meant with \"long\" and \"wide\" datasets, as well to when you should use either of them\n",
    "- know how to use two pandas methods in order to bring datasets into a long format\n",
    "- know how to use one pandas method in order to bring datasets into a wide format"
   ]
  },
  {
   "cell_type": "markdown",
   "metadata": {},
   "source": [
    "A general rule of thumb is that it is\n",
    "easier to describe functional relationships between variables/columns (e.g., z is a linear combination\n",
    "of x and y, density is the ratio of weight to volume) than between rows, and it is easier\n",
    "to make comparisons between groups of observations (e.g., average of group a vs. average of\n",
    "group b) than between groups of columns."
   ]
  },
  {
   "cell_type": "code",
   "execution_count": 1,
   "metadata": {},
   "outputs": [],
   "source": [
    "import pandas as pd"
   ]
  },
  {
   "cell_type": "markdown",
   "metadata": {},
   "source": [
    "### Long"
   ]
  },
  {
   "cell_type": "markdown",
   "metadata": {},
   "source": [
    "One option to bring a dataset from a \"wide\" format into a \"long\" one is using **.stack()**:"
   ]
  },
  {
   "cell_type": "markdown",
   "metadata": {},
   "source": [
    "So, **.stack()**-method can be used in order to access specific \"hierarchical columns\" and to bring them into the index (\"flattening the cols\")."
   ]
  },
  {
   "cell_type": "code",
   "execution_count": 2,
   "metadata": {},
   "outputs": [],
   "source": [
    "df = pd.DataFrame(\n",
    "    {\n",
    "        \"Nationalities\":[\"Ukrainian\", \"Nigerian\", \"Indian\", \"New Zealander\", \"French\"],\n",
    "        \"Studies\":[\"Business\", \"Physics\", \"Physics\", \"Env_Studies\", \"Marketing\"],\n",
    "        \"PhD_Grade\":[1,1,1,1,1],\n",
    "        \"Masters_Grade\":[1,1,1,1,1],\n",
    "        \"Age\":[18,21,21,19,23],\n",
    "    }\n",
    ")"
   ]
  },
  {
   "cell_type": "markdown",
   "metadata": {},
   "source": [
    "Another option to bring a dataset from a \"wide\" format into a \"long\" one is using **.melt()**:"
   ]
  },
  {
   "cell_type": "code",
   "execution_count": 4,
   "metadata": {},
   "outputs": [
    {
     "data": {
      "text/plain": [
       "(5, 5)"
      ]
     },
     "execution_count": 4,
     "metadata": {},
     "output_type": "execute_result"
    }
   ],
   "source": [
    "# df\n",
    "df.shape"
   ]
  },
  {
   "cell_type": "code",
   "execution_count": 8,
   "metadata": {},
   "outputs": [
    {
     "data": {
      "text/plain": [
       "RangeIndex(start=0, stop=5, step=1)"
      ]
     },
     "execution_count": 8,
     "metadata": {},
     "output_type": "execute_result"
    }
   ],
   "source": [
    "df.index"
   ]
  },
  {
   "cell_type": "markdown",
   "metadata": {},
   "source": [
    "#### \"Tidy\""
   ]
  },
  {
   "cell_type": "markdown",
   "metadata": {},
   "source": [
    "Tidy data is a standard way of mapping the meaning of a dataset to its structure. A dataset is\n",
    "messy or tidy depending on how rows, columns and tables are matched up with observations,\n",
    "variables and types. In tidy data:\n",
    "1. Each variable forms a column.\n",
    "2. Each observation forms a row."
   ]
  },
  {
   "cell_type": "code",
   "execution_count": 6,
   "metadata": {},
   "outputs": [],
   "source": [
    "df_stacked = df.stack()"
   ]
  },
  {
   "cell_type": "code",
   "execution_count": 7,
   "metadata": {},
   "outputs": [
    {
     "data": {
      "text/plain": [
       "MultiIndex([(0, 'Nationalities'),\n",
       "            (0,       'Studies'),\n",
       "            (0,     'PhD_Grade'),\n",
       "            (0, 'Masters_Grade'),\n",
       "            (0,           'Age'),\n",
       "            (1, 'Nationalities'),\n",
       "            (1,       'Studies'),\n",
       "            (1,     'PhD_Grade'),\n",
       "            (1, 'Masters_Grade'),\n",
       "            (1,           'Age'),\n",
       "            (2, 'Nationalities'),\n",
       "            (2,       'Studies'),\n",
       "            (2,     'PhD_Grade'),\n",
       "            (2, 'Masters_Grade'),\n",
       "            (2,           'Age'),\n",
       "            (3, 'Nationalities'),\n",
       "            (3,       'Studies'),\n",
       "            (3,     'PhD_Grade'),\n",
       "            (3, 'Masters_Grade'),\n",
       "            (3,           'Age'),\n",
       "            (4, 'Nationalities'),\n",
       "            (4,       'Studies'),\n",
       "            (4,     'PhD_Grade'),\n",
       "            (4, 'Masters_Grade'),\n",
       "            (4,           'Age')],\n",
       "           )"
      ]
     },
     "execution_count": 7,
     "metadata": {},
     "output_type": "execute_result"
    }
   ],
   "source": [
    "df_stacked.index"
   ]
  },
  {
   "cell_type": "code",
   "execution_count": 14,
   "metadata": {},
   "outputs": [
    {
     "data": {
      "text/html": [
       "<div>\n",
       "<style scoped>\n",
       "    .dataframe tbody tr th:only-of-type {\n",
       "        vertical-align: middle;\n",
       "    }\n",
       "\n",
       "    .dataframe tbody tr th {\n",
       "        vertical-align: top;\n",
       "    }\n",
       "\n",
       "    .dataframe thead th {\n",
       "        text-align: right;\n",
       "    }\n",
       "</style>\n",
       "<table border=\"1\" class=\"dataframe\">\n",
       "  <thead>\n",
       "    <tr style=\"text-align: right;\">\n",
       "      <th></th>\n",
       "      <th>Nationalities</th>\n",
       "      <th>Studies</th>\n",
       "      <th>Age</th>\n",
       "      <th>Grade</th>\n",
       "      <th>Academic_Performance</th>\n",
       "    </tr>\n",
       "  </thead>\n",
       "  <tbody>\n",
       "    <tr>\n",
       "      <th>0</th>\n",
       "      <td>Ukrainian</td>\n",
       "      <td>Business</td>\n",
       "      <td>18</td>\n",
       "      <td>PhD_Grade</td>\n",
       "      <td>1</td>\n",
       "    </tr>\n",
       "    <tr>\n",
       "      <th>1</th>\n",
       "      <td>Nigerian</td>\n",
       "      <td>Physics</td>\n",
       "      <td>21</td>\n",
       "      <td>PhD_Grade</td>\n",
       "      <td>1</td>\n",
       "    </tr>\n",
       "    <tr>\n",
       "      <th>2</th>\n",
       "      <td>Indian</td>\n",
       "      <td>Physics</td>\n",
       "      <td>21</td>\n",
       "      <td>PhD_Grade</td>\n",
       "      <td>1</td>\n",
       "    </tr>\n",
       "    <tr>\n",
       "      <th>3</th>\n",
       "      <td>New Zealander</td>\n",
       "      <td>Env_Studies</td>\n",
       "      <td>19</td>\n",
       "      <td>PhD_Grade</td>\n",
       "      <td>1</td>\n",
       "    </tr>\n",
       "    <tr>\n",
       "      <th>4</th>\n",
       "      <td>French</td>\n",
       "      <td>Marketing</td>\n",
       "      <td>23</td>\n",
       "      <td>PhD_Grade</td>\n",
       "      <td>1</td>\n",
       "    </tr>\n",
       "    <tr>\n",
       "      <th>5</th>\n",
       "      <td>Ukrainian</td>\n",
       "      <td>Business</td>\n",
       "      <td>18</td>\n",
       "      <td>Masters_Grade</td>\n",
       "      <td>1</td>\n",
       "    </tr>\n",
       "    <tr>\n",
       "      <th>6</th>\n",
       "      <td>Nigerian</td>\n",
       "      <td>Physics</td>\n",
       "      <td>21</td>\n",
       "      <td>Masters_Grade</td>\n",
       "      <td>1</td>\n",
       "    </tr>\n",
       "    <tr>\n",
       "      <th>7</th>\n",
       "      <td>Indian</td>\n",
       "      <td>Physics</td>\n",
       "      <td>21</td>\n",
       "      <td>Masters_Grade</td>\n",
       "      <td>1</td>\n",
       "    </tr>\n",
       "    <tr>\n",
       "      <th>8</th>\n",
       "      <td>New Zealander</td>\n",
       "      <td>Env_Studies</td>\n",
       "      <td>19</td>\n",
       "      <td>Masters_Grade</td>\n",
       "      <td>1</td>\n",
       "    </tr>\n",
       "    <tr>\n",
       "      <th>9</th>\n",
       "      <td>French</td>\n",
       "      <td>Marketing</td>\n",
       "      <td>23</td>\n",
       "      <td>Masters_Grade</td>\n",
       "      <td>1</td>\n",
       "    </tr>\n",
       "  </tbody>\n",
       "</table>\n",
       "</div>"
      ],
      "text/plain": [
       "   Nationalities      Studies  Age          Grade  Academic_Performance\n",
       "0      Ukrainian     Business   18      PhD_Grade                     1\n",
       "1       Nigerian      Physics   21      PhD_Grade                     1\n",
       "2         Indian      Physics   21      PhD_Grade                     1\n",
       "3  New Zealander  Env_Studies   19      PhD_Grade                     1\n",
       "4         French    Marketing   23      PhD_Grade                     1\n",
       "5      Ukrainian     Business   18  Masters_Grade                     1\n",
       "6       Nigerian      Physics   21  Masters_Grade                     1\n",
       "7         Indian      Physics   21  Masters_Grade                     1\n",
       "8  New Zealander  Env_Studies   19  Masters_Grade                     1\n",
       "9         French    Marketing   23  Masters_Grade                     1"
      ]
     },
     "execution_count": 14,
     "metadata": {},
     "output_type": "execute_result"
    }
   ],
   "source": [
    "df_melted = df.melt(\n",
    "    id_vars=[\"Nationalities\", \"Studies\", \"Age\"], \n",
    "    value_vars=[\"PhD_Grade\", \"Masters_Grade\"], \n",
    "    var_name=\"Grade\",\n",
    "    value_name=\"Academic_Performance\"\n",
    ")\n",
    "df_melted"
   ]
  },
  {
   "cell_type": "markdown",
   "metadata": {},
   "source": [
    "### Wide"
   ]
  },
  {
   "cell_type": "markdown",
   "metadata": {},
   "source": [
    "One option to bring a dataset from a \"long\" format into a \"wide\" one is using **.unstack()**:"
   ]
  },
  {
   "cell_type": "code",
   "execution_count": 18,
   "metadata": {},
   "outputs": [
    {
     "data": {
      "text/plain": [
       "Nationalities  Studies      Age\n",
       "French         Marketing    23     1\n",
       "Indian         Physics      21     1\n",
       "New Zealander  Env_Studies  19     1\n",
       "Nigerian       Physics      21     1\n",
       "Ukrainian      Business     18     1\n",
       "Name: Age, dtype: int64"
      ]
     },
     "execution_count": 18,
     "metadata": {},
     "output_type": "execute_result"
    }
   ],
   "source": [
    "df_grouped = df.groupby([\"Nationalities\", \"Studies\", \"Age\"])[\"Age\"].count()\n",
    "df_grouped"
   ]
  },
  {
   "cell_type": "code",
   "execution_count": 19,
   "metadata": {},
   "outputs": [
    {
     "data": {
      "text/plain": [
       "MultiIndex([(       'French',   'Marketing', 23),\n",
       "            (       'Indian',     'Physics', 21),\n",
       "            ('New Zealander', 'Env_Studies', 19),\n",
       "            (     'Nigerian',     'Physics', 21),\n",
       "            (    'Ukrainian',    'Business', 18)],\n",
       "           names=['Nationalities', 'Studies', 'Age'])"
      ]
     },
     "execution_count": 19,
     "metadata": {},
     "output_type": "execute_result"
    }
   ],
   "source": [
    "df_grouped.index"
   ]
  },
  {
   "cell_type": "markdown",
   "metadata": {},
   "source": [
    "Hence, .unstack() allows for \"accessing\" hierarchical indeces by bringing selected indeces into cols."
   ]
  },
  {
   "cell_type": "code",
   "execution_count": 21,
   "metadata": {},
   "outputs": [
    {
     "data": {
      "text/plain": [
       "MultiIndex([(       'French',   'Marketing'),\n",
       "            (       'Indian',     'Physics'),\n",
       "            ('New Zealander', 'Env_Studies'),\n",
       "            (     'Nigerian',     'Physics'),\n",
       "            (    'Ukrainian',    'Business')],\n",
       "           names=['Nationalities', 'Studies'])"
      ]
     },
     "execution_count": 21,
     "metadata": {},
     "output_type": "execute_result"
    }
   ],
   "source": [
    "df_grouped_unstacked = df_grouped.unstack()\n",
    "df_grouped_unstacked.index"
   ]
  },
  {
   "cell_type": "markdown",
   "metadata": {},
   "source": [
    "A bit different logic as a means of getting a better view of your (wide) dataset: swap rows and cols with **.transpose()**"
   ]
  },
  {
   "cell_type": "markdown",
   "metadata": {},
   "source": [
    "Transpose: flip dimensions of df"
   ]
  },
  {
   "cell_type": "code",
   "execution_count": 24,
   "metadata": {},
   "outputs": [
    {
     "data": {
      "text/html": [
       "<div>\n",
       "<style scoped>\n",
       "    .dataframe tbody tr th:only-of-type {\n",
       "        vertical-align: middle;\n",
       "    }\n",
       "\n",
       "    .dataframe tbody tr th {\n",
       "        vertical-align: top;\n",
       "    }\n",
       "\n",
       "    .dataframe thead th {\n",
       "        text-align: right;\n",
       "    }\n",
       "</style>\n",
       "<table border=\"1\" class=\"dataframe\">\n",
       "  <thead>\n",
       "    <tr style=\"text-align: right;\">\n",
       "      <th></th>\n",
       "      <th>0</th>\n",
       "      <th>1</th>\n",
       "      <th>2</th>\n",
       "      <th>3</th>\n",
       "      <th>4</th>\n",
       "    </tr>\n",
       "  </thead>\n",
       "  <tbody>\n",
       "    <tr>\n",
       "      <th>Nationalities</th>\n",
       "      <td>Ukrainian</td>\n",
       "      <td>Nigerian</td>\n",
       "      <td>Indian</td>\n",
       "      <td>New Zealander</td>\n",
       "      <td>French</td>\n",
       "    </tr>\n",
       "    <tr>\n",
       "      <th>Studies</th>\n",
       "      <td>Business</td>\n",
       "      <td>Physics</td>\n",
       "      <td>Physics</td>\n",
       "      <td>Env_Studies</td>\n",
       "      <td>Marketing</td>\n",
       "    </tr>\n",
       "    <tr>\n",
       "      <th>PhD_Grade</th>\n",
       "      <td>1</td>\n",
       "      <td>1</td>\n",
       "      <td>1</td>\n",
       "      <td>1</td>\n",
       "      <td>1</td>\n",
       "    </tr>\n",
       "    <tr>\n",
       "      <th>Masters_Grade</th>\n",
       "      <td>1</td>\n",
       "      <td>1</td>\n",
       "      <td>1</td>\n",
       "      <td>1</td>\n",
       "      <td>1</td>\n",
       "    </tr>\n",
       "    <tr>\n",
       "      <th>Age</th>\n",
       "      <td>18</td>\n",
       "      <td>21</td>\n",
       "      <td>21</td>\n",
       "      <td>19</td>\n",
       "      <td>23</td>\n",
       "    </tr>\n",
       "  </tbody>\n",
       "</table>\n",
       "</div>"
      ],
      "text/plain": [
       "                       0         1        2              3          4\n",
       "Nationalities  Ukrainian  Nigerian   Indian  New Zealander     French\n",
       "Studies         Business   Physics  Physics    Env_Studies  Marketing\n",
       "PhD_Grade              1         1        1              1          1\n",
       "Masters_Grade          1         1        1              1          1\n",
       "Age                   18        21       21             19         23"
      ]
     },
     "execution_count": 24,
     "metadata": {},
     "output_type": "execute_result"
    }
   ],
   "source": [
    "df.transpose()"
   ]
  },
  {
   "cell_type": "code",
   "execution_count": null,
   "metadata": {},
   "outputs": [],
   "source": [
    "# # Tidy Formats Criteria\n",
    "\n",
    "# 1). "
   ]
  }
 ],
 "metadata": {
  "kernelspec": {
   "display_name": "Python 3 (ipykernel)",
   "language": "python",
   "name": "python3"
  },
  "language_info": {
   "codemirror_mode": {
    "name": "ipython",
    "version": 3
   },
   "file_extension": ".py",
   "mimetype": "text/x-python",
   "name": "python",
   "nbconvert_exporter": "python",
   "pygments_lexer": "ipython3",
   "version": "3.9.7"
  },
  "vscode": {
   "interpreter": {
    "hash": "d1b2e6a66c7e8de24e88ad9589f548d7c8600ae36e45725b96b0d219caf4b36b"
   }
  }
 },
 "nbformat": 4,
 "nbformat_minor": 4
}