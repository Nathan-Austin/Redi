{
 "cells": [
  {
   "cell_type": "markdown",
   "id": "9b00dab8",
   "metadata": {},
   "source": [
    "# pandas intro\n",
    "28/06/2022"
   ]
  },
  {
   "cell_type": "markdown",
   "metadata": {},
   "source": [
    "## Additional Learning Resources\n",
    "Refer to [scikit-learn documentation](https://scikit-learn.org/stable/) and the [Pandas user guide](https://pandas.pydata.org/docs/) for detailed explanations of the functions used in this notebook.\n",
    "For a quick refresher on splitting data:\n",
    "```python\nfrom sklearn.model_selection import train_test_split\nX_train, X_test, y_train, y_test = train_test_split(X, y, test_size=0.2, random_state=42)\n```\n"
   ]
  },
  {
   "cell_type": "markdown",
   "id": "154e714f",
   "metadata": {},
   "source": [
    "After this encounter you should be able to \n",
    "- use selected methods of the pandas library\n",
    "- use pandas documentation for finding and using selected methods "
   ]
  },
  {
   "cell_type": "markdown",
   "id": "13bc075e",
   "metadata": {},
   "source": [
    "### Table of content\n",
    "1. [import pandas](#import)\n",
    "2. [read csv file](#read)\n",
    "3. [index and columns](#index)\n",
    "4. [head and tail](#head)\n",
    "5. [set index](#setindex)\n",
    "6. [loc and iloc](#loc)\n",
    "7. [select conditional](#masking)\n",
    "8. [nan](#nan)\n",
    "9. [save files](#save)\n",
    "10. [plot](#plot)"
   ]
  },
  {
   "cell_type": "markdown",
   "id": "d208e164",
   "metadata": {},
   "source": [
    "<a id='import' />"
   ]
  },
  {
   "cell_type": "markdown",
   "id": "15b20bbd",
   "metadata": {},
   "source": [
    "#### Import ```pandas``` package as ```pd```"
   ]
  },
  {
   "cell_type": "code",
   "execution_count": 1,
   "id": "0f27af63",
   "metadata": {},
   "outputs": [],
   "source": [
    "import pandas as pd"
   ]
  },
  {
   "cell_type": "markdown",
   "id": "5792445f",
   "metadata": {},
   "source": [
    "[UP](#toc)\n",
    "<a id='read'/>"
   ]
  },
  {
   "cell_type": "markdown",
   "id": "41fa4f6d",
   "metadata": {},
   "source": [
    "#### Load data file with separator ```,```"
   ]
  },
  {
   "cell_type": "code",
   "execution_count": 2,
   "id": "b323f273",
   "metadata": {},
   "outputs": [],
   "source": [
    "df = pd.read_csv(\"population.csv\")"
   ]
  },
  {
   "cell_type": "markdown",
   "id": "30a951a9",
   "metadata": {},
   "source": [
    "[UP](#toc)\n",
    "<a id='index'/>"
   ]
  },
  {
   "cell_type": "markdown",
   "id": "7743a2ec",
   "metadata": {},
   "source": [
    "#### Get index and columns of the DataFrame"
   ]
  },
  {
   "cell_type": "code",
   "execution_count": 3,
   "id": "f236ba91",
   "metadata": {},
   "outputs": [
    {
     "data": {
      "text/plain": [
       "RangeIndex(start=0, stop=275, step=1)"
      ]
     },
     "execution_count": 3,
     "metadata": {},
     "output_type": "execute_result"
    }
   ],
   "source": [
    "df.index"
   ]
  },
  {
   "cell_type": "code",
   "execution_count": 4,
   "id": "73d0b665",
   "metadata": {},
   "outputs": [
    {
     "data": {
      "text/plain": [
       "(275, 82)"
      ]
     },
     "execution_count": 4,
     "metadata": {},
     "output_type": "execute_result"
    }
   ],
   "source": [
    "df.shape"
   ]
  },
  {
   "cell_type": "code",
   "execution_count": null,
   "id": "c45a6e8c",
   "metadata": {},
   "outputs": [],
   "source": [
    "# Practice: implement the steps discussed above\n"
   ]
  },
  {
   "cell_type": "markdown",
   "id": "24aee959",
   "metadata": {},
   "source": [
    "[UP](#toc)\n",
    "<a id='head'/>"
   ]
  },
  {
   "cell_type": "markdown",
   "id": "07a2f120",
   "metadata": {},
   "source": [
    "#### Get first (```head```) or last (```tail```) 5 rows of DataFrame"
   ]
  },
  {
   "cell_type": "code",
   "execution_count": 5,
   "id": "32d92436",
   "metadata": {},
   "outputs": [
    {
     "data": {
      "text/html": [
       "<div>\n",
       "<style scoped>\n",
       "    .dataframe tbody tr th:only-of-type {\n",
       "        vertical-align: middle;\n",
       "    }\n",
       "\n",
       "    .dataframe tbody tr th {\n",
       "        vertical-align: top;\n",
       "    }\n",
       "\n",
       "    .dataframe thead th {\n",
       "        text-align: right;\n",
       "    }\n",
       "</style>\n",
       "<table border=\"1\" class=\"dataframe\">\n",
       "  <thead>\n",
       "    <tr style=\"text-align: right;\">\n",
       "      <th></th>\n",
       "      <th>Total population</th>\n",
       "      <th>1800</th>\n",
       "      <th>1810</th>\n",
       "      <th>1820</th>\n",
       "      <th>1830</th>\n",
       "      <th>1840</th>\n",
       "      <th>1850</th>\n",
       "      <th>1860</th>\n",
       "      <th>1870</th>\n",
       "      <th>1880</th>\n",
       "      <th>...</th>\n",
       "      <th>2006</th>\n",
       "      <th>2007</th>\n",
       "      <th>2008</th>\n",
       "      <th>2009</th>\n",
       "      <th>2010</th>\n",
       "      <th>2011</th>\n",
       "      <th>2012</th>\n",
       "      <th>2013</th>\n",
       "      <th>2014</th>\n",
       "      <th>2015</th>\n",
       "    </tr>\n",
       "  </thead>\n",
       "  <tbody>\n",
       "    <tr>\n",
       "      <th>0</th>\n",
       "      <td>Abkhazia</td>\n",
       "      <td>NaN</td>\n",
       "      <td>NaN</td>\n",
       "      <td>NaN</td>\n",
       "      <td>NaN</td>\n",
       "      <td>NaN</td>\n",
       "      <td>NaN</td>\n",
       "      <td>NaN</td>\n",
       "      <td>NaN</td>\n",
       "      <td>NaN</td>\n",
       "      <td>...</td>\n",
       "      <td>NaN</td>\n",
       "      <td>NaN</td>\n",
       "      <td>NaN</td>\n",
       "      <td>NaN</td>\n",
       "      <td>NaN</td>\n",
       "      <td>NaN</td>\n",
       "      <td>NaN</td>\n",
       "      <td>NaN</td>\n",
       "      <td>NaN</td>\n",
       "      <td>NaN</td>\n",
       "    </tr>\n",
       "    <tr>\n",
       "      <th>1</th>\n",
       "      <td>Afghanistan</td>\n",
       "      <td>3280000.0</td>\n",
       "      <td>3280000.0</td>\n",
       "      <td>3323519.0</td>\n",
       "      <td>3448982.0</td>\n",
       "      <td>3625022.0</td>\n",
       "      <td>3810047.0</td>\n",
       "      <td>3973968.0</td>\n",
       "      <td>4169690.0</td>\n",
       "      <td>4419695.0</td>\n",
       "      <td>...</td>\n",
       "      <td>25183615.0</td>\n",
       "      <td>25877544.0</td>\n",
       "      <td>26528741.0</td>\n",
       "      <td>27207291.0</td>\n",
       "      <td>27962207.0</td>\n",
       "      <td>28809167.0</td>\n",
       "      <td>29726803.0</td>\n",
       "      <td>30682500.0</td>\n",
       "      <td>31627506.0</td>\n",
       "      <td>32526562.0</td>\n",
       "    </tr>\n",
       "  </tbody>\n",
       "</table>\n",
       "<p>2 rows \u00d7 82 columns</p>\n",
       "</div>"
      ],
      "text/plain": [
       "  Total population       1800       1810       1820       1830       1840  \\\n",
       "0         Abkhazia        NaN        NaN        NaN        NaN        NaN   \n",
       "1      Afghanistan  3280000.0  3280000.0  3323519.0  3448982.0  3625022.0   \n",
       "\n",
       "        1850       1860       1870       1880  ...        2006        2007  \\\n",
       "0        NaN        NaN        NaN        NaN  ...         NaN         NaN   \n",
       "1  3810047.0  3973968.0  4169690.0  4419695.0  ...  25183615.0  25877544.0   \n",
       "\n",
       "         2008        2009        2010        2011        2012        2013  \\\n",
       "0         NaN         NaN         NaN         NaN         NaN         NaN   \n",
       "1  26528741.0  27207291.0  27962207.0  28809167.0  29726803.0  30682500.0   \n",
       "\n",
       "         2014        2015  \n",
       "0         NaN         NaN  \n",
       "1  31627506.0  32526562.0  \n",
       "\n",
       "[2 rows x 82 columns]"
      ]
     },
     "execution_count": 5,
     "metadata": {},
     "output_type": "execute_result"
    }
   ],
   "source": [
    "df.head(2)"
   ]
  },
  {
   "cell_type": "code",
   "execution_count": 6,
   "id": "d2ae76e9",
   "metadata": {},
   "outputs": [
    {
     "data": {
      "text/html": [
       "<div>\n",
       "<style scoped>\n",
       "    .dataframe tbody tr th:only-of-type {\n",
       "        vertical-align: middle;\n",
       "    }\n",
       "\n",
       "    .dataframe tbody tr th {\n",
       "        vertical-align: top;\n",
       "    }\n",
       "\n",
       "    .dataframe thead th {\n",
       "        text-align: right;\n",
       "    }\n",
       "</style>\n",
       "<table border=\"1\" class=\"dataframe\">\n",
       "  <thead>\n",
       "    <tr style=\"text-align: right;\">\n",
       "      <th></th>\n",
       "      <th>Total population</th>\n",
       "      <th>1800</th>\n",
       "      <th>1810</th>\n",
       "      <th>1820</th>\n",
       "      <th>1830</th>\n",
       "      <th>1840</th>\n",
       "      <th>1850</th>\n",
       "      <th>1860</th>\n",
       "      <th>1870</th>\n",
       "      <th>1880</th>\n",
       "      <th>...</th>\n",
       "      <th>2006</th>\n",
       "      <th>2007</th>\n",
       "      <th>2008</th>\n",
       "      <th>2009</th>\n",
       "      <th>2010</th>\n",
       "      <th>2011</th>\n",
       "      <th>2012</th>\n",
       "      <th>2013</th>\n",
       "      <th>2014</th>\n",
       "      <th>2015</th>\n",
       "    </tr>\n",
       "  </thead>\n",
       "  <tbody>\n",
       "    <tr>\n",
       "      <th>273</th>\n",
       "      <td>Virgin Islands</td>\n",
       "      <td>NaN</td>\n",
       "      <td>NaN</td>\n",
       "      <td>NaN</td>\n",
       "      <td>NaN</td>\n",
       "      <td>NaN</td>\n",
       "      <td>NaN</td>\n",
       "      <td>NaN</td>\n",
       "      <td>NaN</td>\n",
       "      <td>NaN</td>\n",
       "      <td>...</td>\n",
       "      <td>NaN</td>\n",
       "      <td>NaN</td>\n",
       "      <td>NaN</td>\n",
       "      <td>NaN</td>\n",
       "      <td>NaN</td>\n",
       "      <td>NaN</td>\n",
       "      <td>NaN</td>\n",
       "      <td>NaN</td>\n",
       "      <td>NaN</td>\n",
       "      <td>NaN</td>\n",
       "    </tr>\n",
       "    <tr>\n",
       "      <th>274</th>\n",
       "      <td>West Bank</td>\n",
       "      <td>NaN</td>\n",
       "      <td>NaN</td>\n",
       "      <td>NaN</td>\n",
       "      <td>NaN</td>\n",
       "      <td>NaN</td>\n",
       "      <td>NaN</td>\n",
       "      <td>NaN</td>\n",
       "      <td>NaN</td>\n",
       "      <td>NaN</td>\n",
       "      <td>...</td>\n",
       "      <td>NaN</td>\n",
       "      <td>NaN</td>\n",
       "      <td>NaN</td>\n",
       "      <td>NaN</td>\n",
       "      <td>NaN</td>\n",
       "      <td>NaN</td>\n",
       "      <td>NaN</td>\n",
       "      <td>NaN</td>\n",
       "      <td>NaN</td>\n",
       "      <td>NaN</td>\n",
       "    </tr>\n",
       "  </tbody>\n",
       "</table>\n",
       "<p>2 rows \u00d7 82 columns</p>\n",
       "</div>"
      ],
      "text/plain": [
       "    Total population  1800  1810  1820  1830  1840  1850  1860  1870  1880  \\\n",
       "273   Virgin Islands   NaN   NaN   NaN   NaN   NaN   NaN   NaN   NaN   NaN   \n",
       "274        West Bank   NaN   NaN   NaN   NaN   NaN   NaN   NaN   NaN   NaN   \n",
       "\n",
       "     ...  2006  2007  2008  2009  2010  2011  2012  2013  2014  2015  \n",
       "273  ...   NaN   NaN   NaN   NaN   NaN   NaN   NaN   NaN   NaN   NaN  \n",
       "274  ...   NaN   NaN   NaN   NaN   NaN   NaN   NaN   NaN   NaN   NaN  \n",
       "\n",
       "[2 rows x 82 columns]"
      ]
     },
     "execution_count": 6,
     "metadata": {},
     "output_type": "execute_result"
    }
   ],
   "source": [
    "df.tail(2)"
   ]
  },
  {
   "cell_type": "code",
   "execution_count": null,
   "id": "911307d8",
   "metadata": {},
   "outputs": [],
   "source": [
    "# Practice: implement the steps discussed above\n"
   ]
  },
  {
   "cell_type": "markdown",
   "id": "b940d481",
   "metadata": {},
   "source": [
    "[UP](#toc)\n",
    "<a id='setindex'/>"
   ]
  },
  {
   "cell_type": "markdown",
   "id": "50b65f41",
   "metadata": {},
   "source": [
    "#### Change index to column ```Total population``` and drop the column"
   ]
  },
  {
   "cell_type": "code",
   "execution_count": 7,
   "id": "726155b6",
   "metadata": {},
   "outputs": [],
   "source": [
    "df.set_index(\n",
    "    \"Total population\",\n",
    "    inplace = True\n",
    ")"
   ]
  },
  {
   "cell_type": "code",
   "execution_count": 8,
   "id": "1a74f25e",
   "metadata": {},
   "outputs": [
    {
     "data": {
      "text/plain": [
       "Index(['Abkhazia', 'Afghanistan', 'Akrotiri and Dhekelia', 'Albania',\n",
       "       'Algeria', 'American Samoa', 'Andorra', 'Angola', 'Anguilla',\n",
       "       'Antigua and Barbuda',\n",
       "       ...\n",
       "       'British Indian Ocean Territory', 'Clipperton',\n",
       "       'French Southern and Antarctic Lands', 'Gaza Strip',\n",
       "       'Heard and McDonald Islands', 'Northern Marianas',\n",
       "       'South Georgia and the South Sandwich Islands',\n",
       "       'US Minor Outlying Islands', 'Virgin Islands', 'West Bank'],\n",
       "      dtype='object', name='Total population', length=275)"
      ]
     },
     "execution_count": 8,
     "metadata": {},
     "output_type": "execute_result"
    }
   ],
   "source": [
    "df.index"
   ]
  },
  {
   "cell_type": "code",
   "execution_count": 9,
   "id": "669a8368",
   "metadata": {},
   "outputs": [
    {
     "data": {
      "text/plain": [
       "Index(['1800', '1810', '1820', '1830', '1840', '1850', '1860', '1870', '1880',\n",
       "       '1890', '1900', '1910', '1920', '1930', '1940', '1950', '1951', '1952',\n",
       "       '1953', '1954', '1955', '1956', '1957', '1958', '1959', '1960', '1961',\n",
       "       '1962', '1963', '1964', '1965', '1966', '1967', '1968', '1969', '1970',\n",
       "       '1971', '1972', '1973', '1974', '1975', '1976', '1977', '1978', '1979',\n",
       "       '1980', '1981', '1982', '1983', '1984', '1985', '1986', '1987', '1988',\n",
       "       '1989', '1990', '1991', '1992', '1993', '1994', '1995', '1996', '1997',\n",
       "       '1998', '1999', '2000', '2001', '2002', '2003', '2004', '2005', '2006',\n",
       "       '2007', '2008', '2009', '2010', '2011', '2012', '2013', '2014', '2015'],\n",
       "      dtype='object')"
      ]
     },
     "execution_count": 9,
     "metadata": {},
     "output_type": "execute_result"
    }
   ],
   "source": [
    "df.columns"
   ]
  },
  {
   "cell_type": "markdown",
   "id": "2108d343",
   "metadata": {},
   "source": [
    "This is the long version:"
   ]
  },
  {
   "cell_type": "code",
   "execution_count": 10,
   "id": "0c00505a",
   "metadata": {},
   "outputs": [],
   "source": [
    "# df.index = df[\"Total population\"]"
   ]
  },
  {
   "cell_type": "code",
   "execution_count": 11,
   "id": "59782b71",
   "metadata": {},
   "outputs": [],
   "source": [
    "# df.index"
   ]
  },
  {
   "cell_type": "code",
   "execution_count": 12,
   "id": "a681960e",
   "metadata": {},
   "outputs": [],
   "source": [
    "#df.columns"
   ]
  },
  {
   "cell_type": "code",
   "execution_count": 13,
   "id": "14da16e8",
   "metadata": {},
   "outputs": [],
   "source": [
    "#df.drop(\"Total population\",\n",
    " #       axis = 1,\n",
    "  #      inplace = True\n",
    "   #    )"
   ]
  },
  {
   "cell_type": "markdown",
   "id": "eee893d5",
   "metadata": {},
   "source": [
    "Shorter way to redefine our index (from numeric to \"categoric\"):"
   ]
  },
  {
   "cell_type": "code",
   "execution_count": null,
   "id": "b8bcd4ed",
   "metadata": {},
   "outputs": [],
   "source": [
    "# Practice: implement the steps discussed above\n"
   ]
  },
  {
   "cell_type": "markdown",
   "id": "f8515cfe",
   "metadata": {},
   "source": [
    "[UP](#toc)\n",
    "<a id='loc'/>"
   ]
  },
  {
   "cell_type": "markdown",
   "id": "aa3e0e82",
   "metadata": {},
   "source": [
    "#### Use ```loc``` and ```iloc``` to access entries in DataFrame"
   ]
  },
  {
   "cell_type": "code",
   "execution_count": 14,
   "id": "8363b03f",
   "metadata": {},
   "outputs": [
    {
     "data": {
      "text/html": [
       "<div>\n",
       "<style scoped>\n",
       "    .dataframe tbody tr th:only-of-type {\n",
       "        vertical-align: middle;\n",
       "    }\n",
       "\n",
       "    .dataframe tbody tr th {\n",
       "        vertical-align: top;\n",
       "    }\n",
       "\n",
       "    .dataframe thead th {\n",
       "        text-align: right;\n",
       "    }\n",
       "</style>\n",
       "<table border=\"1\" class=\"dataframe\">\n",
       "  <thead>\n",
       "    <tr style=\"text-align: right;\">\n",
       "      <th></th>\n",
       "      <th>1800</th>\n",
       "      <th>1810</th>\n",
       "      <th>1820</th>\n",
       "      <th>1830</th>\n",
       "      <th>1840</th>\n",
       "      <th>1850</th>\n",
       "      <th>1860</th>\n",
       "      <th>1870</th>\n",
       "      <th>1880</th>\n",
       "      <th>1890</th>\n",
       "      <th>...</th>\n",
       "      <th>2006</th>\n",
       "      <th>2007</th>\n",
       "      <th>2008</th>\n",
       "      <th>2009</th>\n",
       "      <th>2010</th>\n",
       "      <th>2011</th>\n",
       "      <th>2012</th>\n",
       "      <th>2013</th>\n",
       "      <th>2014</th>\n",
       "      <th>2015</th>\n",
       "    </tr>\n",
       "    <tr>\n",
       "      <th>Total population</th>\n",
       "      <th></th>\n",
       "      <th></th>\n",
       "      <th></th>\n",
       "      <th></th>\n",
       "      <th></th>\n",
       "      <th></th>\n",
       "      <th></th>\n",
       "      <th></th>\n",
       "      <th></th>\n",
       "      <th></th>\n",
       "      <th></th>\n",
       "      <th></th>\n",
       "      <th></th>\n",
       "      <th></th>\n",
       "      <th></th>\n",
       "      <th></th>\n",
       "      <th></th>\n",
       "      <th></th>\n",
       "      <th></th>\n",
       "      <th></th>\n",
       "      <th></th>\n",
       "    </tr>\n",
       "  </thead>\n",
       "  <tbody>\n",
       "    <tr>\n",
       "      <th>Argentina</th>\n",
       "      <td>534000.0</td>\n",
       "      <td>534000.0</td>\n",
       "      <td>570719.0</td>\n",
       "      <td>686703.0</td>\n",
       "      <td>873747.0</td>\n",
       "      <td>1113189.0</td>\n",
       "      <td>1421333.0</td>\n",
       "      <td>1856886.0</td>\n",
       "      <td>2493156.0</td>\n",
       "      <td>3402273.0</td>\n",
       "      <td>...</td>\n",
       "      <td>39558750.0</td>\n",
       "      <td>39969903.0</td>\n",
       "      <td>40381860.0</td>\n",
       "      <td>40798641.0</td>\n",
       "      <td>41222875.0</td>\n",
       "      <td>41655616.0</td>\n",
       "      <td>42095224.0</td>\n",
       "      <td>42538304.0</td>\n",
       "      <td>42980026.0</td>\n",
       "      <td>43416755.0</td>\n",
       "    </tr>\n",
       "    <tr>\n",
       "      <th>Armenia</th>\n",
       "      <td>413326.0</td>\n",
       "      <td>413326.0</td>\n",
       "      <td>423527.0</td>\n",
       "      <td>453507.0</td>\n",
       "      <td>496835.0</td>\n",
       "      <td>544302.0</td>\n",
       "      <td>595928.0</td>\n",
       "      <td>652450.0</td>\n",
       "      <td>713957.0</td>\n",
       "      <td>781218.0</td>\n",
       "      <td>...</td>\n",
       "      <td>3002161.0</td>\n",
       "      <td>2988117.0</td>\n",
       "      <td>2975029.0</td>\n",
       "      <td>2966108.0</td>\n",
       "      <td>2963496.0</td>\n",
       "      <td>2967984.0</td>\n",
       "      <td>2978339.0</td>\n",
       "      <td>2992192.0</td>\n",
       "      <td>3006154.0</td>\n",
       "      <td>3017712.0</td>\n",
       "    </tr>\n",
       "    <tr>\n",
       "      <th>Aruba</th>\n",
       "      <td>19286.0</td>\n",
       "      <td>19286.0</td>\n",
       "      <td>19555.0</td>\n",
       "      <td>20332.0</td>\n",
       "      <td>21423.0</td>\n",
       "      <td>22574.0</td>\n",
       "      <td>23786.0</td>\n",
       "      <td>25063.0</td>\n",
       "      <td>26404.0</td>\n",
       "      <td>27817.0</td>\n",
       "      <td>...</td>\n",
       "      <td>100830.0</td>\n",
       "      <td>101218.0</td>\n",
       "      <td>101342.0</td>\n",
       "      <td>101416.0</td>\n",
       "      <td>101597.0</td>\n",
       "      <td>101936.0</td>\n",
       "      <td>102393.0</td>\n",
       "      <td>102921.0</td>\n",
       "      <td>103441.0</td>\n",
       "      <td>103889.0</td>\n",
       "    </tr>\n",
       "    <tr>\n",
       "      <th>Australia</th>\n",
       "      <td>351014.0</td>\n",
       "      <td>342440.0</td>\n",
       "      <td>334002.0</td>\n",
       "      <td>348143.0</td>\n",
       "      <td>434095.0</td>\n",
       "      <td>742619.0</td>\n",
       "      <td>1256048.0</td>\n",
       "      <td>1724213.0</td>\n",
       "      <td>2253007.0</td>\n",
       "      <td>3088808.0</td>\n",
       "      <td>...</td>\n",
       "      <td>20606228.0</td>\n",
       "      <td>20975949.0</td>\n",
       "      <td>21370348.0</td>\n",
       "      <td>21770690.0</td>\n",
       "      <td>22162863.0</td>\n",
       "      <td>22542371.0</td>\n",
       "      <td>22911375.0</td>\n",
       "      <td>23270465.0</td>\n",
       "      <td>23622353.0</td>\n",
       "      <td>23968973.0</td>\n",
       "    </tr>\n",
       "    <tr>\n",
       "      <th>Austria</th>\n",
       "      <td>3205587.0</td>\n",
       "      <td>3286650.0</td>\n",
       "      <td>3391206.0</td>\n",
       "      <td>3538286.0</td>\n",
       "      <td>3728381.0</td>\n",
       "      <td>3962619.0</td>\n",
       "      <td>4235926.0</td>\n",
       "      <td>4556658.0</td>\n",
       "      <td>4947026.0</td>\n",
       "      <td>5408503.0</td>\n",
       "      <td>...</td>\n",
       "      <td>8269372.0</td>\n",
       "      <td>8301290.0</td>\n",
       "      <td>8331465.0</td>\n",
       "      <td>8361362.0</td>\n",
       "      <td>8391986.0</td>\n",
       "      <td>8423559.0</td>\n",
       "      <td>8455477.0</td>\n",
       "      <td>8486962.0</td>\n",
       "      <td>8516916.0</td>\n",
       "      <td>8544586.0</td>\n",
       "    </tr>\n",
       "    <tr>\n",
       "      <th>...</th>\n",
       "      <td>...</td>\n",
       "      <td>...</td>\n",
       "      <td>...</td>\n",
       "      <td>...</td>\n",
       "      <td>...</td>\n",
       "      <td>...</td>\n",
       "      <td>...</td>\n",
       "      <td>...</td>\n",
       "      <td>...</td>\n",
       "      <td>...</td>\n",
       "      <td>...</td>\n",
       "      <td>...</td>\n",
       "      <td>...</td>\n",
       "      <td>...</td>\n",
       "      <td>...</td>\n",
       "      <td>...</td>\n",
       "      <td>...</td>\n",
       "      <td>...</td>\n",
       "      <td>...</td>\n",
       "      <td>...</td>\n",
       "      <td>...</td>\n",
       "    </tr>\n",
       "    <tr>\n",
       "      <th>New Zealand</th>\n",
       "      <td>100000.0</td>\n",
       "      <td>100000.0</td>\n",
       "      <td>100000.0</td>\n",
       "      <td>91723.0</td>\n",
       "      <td>82479.0</td>\n",
       "      <td>94934.0</td>\n",
       "      <td>157114.0</td>\n",
       "      <td>301045.0</td>\n",
       "      <td>505065.0</td>\n",
       "      <td>669985.0</td>\n",
       "      <td>...</td>\n",
       "      <td>4187584.0</td>\n",
       "      <td>4238021.0</td>\n",
       "      <td>4285380.0</td>\n",
       "      <td>4329124.0</td>\n",
       "      <td>4369027.0</td>\n",
       "      <td>4404483.0</td>\n",
       "      <td>4435883.0</td>\n",
       "      <td>4465276.0</td>\n",
       "      <td>4495482.0</td>\n",
       "      <td>4528526.0</td>\n",
       "    </tr>\n",
       "    <tr>\n",
       "      <th>Ngorno-Karabakh</th>\n",
       "      <td>NaN</td>\n",
       "      <td>NaN</td>\n",
       "      <td>NaN</td>\n",
       "      <td>NaN</td>\n",
       "      <td>NaN</td>\n",
       "      <td>NaN</td>\n",
       "      <td>NaN</td>\n",
       "      <td>NaN</td>\n",
       "      <td>NaN</td>\n",
       "      <td>NaN</td>\n",
       "      <td>...</td>\n",
       "      <td>NaN</td>\n",
       "      <td>NaN</td>\n",
       "      <td>NaN</td>\n",
       "      <td>NaN</td>\n",
       "      <td>NaN</td>\n",
       "      <td>NaN</td>\n",
       "      <td>NaN</td>\n",
       "      <td>NaN</td>\n",
       "      <td>NaN</td>\n",
       "      <td>NaN</td>\n",
       "    </tr>\n",
       "    <tr>\n",
       "      <th>Nicaragua</th>\n",
       "      <td>219387.0</td>\n",
       "      <td>219387.0</td>\n",
       "      <td>229075.0</td>\n",
       "      <td>258484.0</td>\n",
       "      <td>303135.0</td>\n",
       "      <td>345374.0</td>\n",
       "      <td>375911.0</td>\n",
       "      <td>405582.0</td>\n",
       "      <td>449633.0</td>\n",
       "      <td>505573.0</td>\n",
       "      <td>...</td>\n",
       "      <td>5450217.0</td>\n",
       "      <td>5522119.0</td>\n",
       "      <td>5594524.0</td>\n",
       "      <td>5666595.0</td>\n",
       "      <td>5737722.0</td>\n",
       "      <td>5807787.0</td>\n",
       "      <td>5877034.0</td>\n",
       "      <td>5945646.0</td>\n",
       "      <td>6013913.0</td>\n",
       "      <td>6082032.0</td>\n",
       "    </tr>\n",
       "    <tr>\n",
       "      <th>Niger</th>\n",
       "      <td>1244861.0</td>\n",
       "      <td>1244861.0</td>\n",
       "      <td>1262280.0</td>\n",
       "      <td>1312557.0</td>\n",
       "      <td>1383237.0</td>\n",
       "      <td>1457723.0</td>\n",
       "      <td>1543423.0</td>\n",
       "      <td>1634127.0</td>\n",
       "      <td>1729822.0</td>\n",
       "      <td>1831048.0</td>\n",
       "      <td>...</td>\n",
       "      <td>13995530.0</td>\n",
       "      <td>14527631.0</td>\n",
       "      <td>15085130.0</td>\n",
       "      <td>15672194.0</td>\n",
       "      <td>16291990.0</td>\n",
       "      <td>16946485.0</td>\n",
       "      <td>17635782.0</td>\n",
       "      <td>18358863.0</td>\n",
       "      <td>19113728.0</td>\n",
       "      <td>19899120.0</td>\n",
       "    </tr>\n",
       "    <tr>\n",
       "      <th>Nigeria</th>\n",
       "      <td>12100855.0</td>\n",
       "      <td>12100855.0</td>\n",
       "      <td>12238319.0</td>\n",
       "      <td>12633330.0</td>\n",
       "      <td>13184823.0</td>\n",
       "      <td>13760390.0</td>\n",
       "      <td>14374142.0</td>\n",
       "      <td>15015256.0</td>\n",
       "      <td>15683139.0</td>\n",
       "      <td>16380516.0</td>\n",
       "      <td>...</td>\n",
       "      <td>143318011.0</td>\n",
       "      <td>147152502.0</td>\n",
       "      <td>151115683.0</td>\n",
       "      <td>155207145.0</td>\n",
       "      <td>159424742.0</td>\n",
       "      <td>163770669.0</td>\n",
       "      <td>168240403.0</td>\n",
       "      <td>172816517.0</td>\n",
       "      <td>177475986.0</td>\n",
       "      <td>182201962.0</td>\n",
       "    </tr>\n",
       "  </tbody>\n",
       "</table>\n",
       "<p>155 rows \u00d7 81 columns</p>\n",
       "</div>"
      ],
      "text/plain": [
       "                        1800        1810        1820        1830        1840  \\\n",
       "Total population                                                               \n",
       "Argentina           534000.0    534000.0    570719.0    686703.0    873747.0   \n",
       "Armenia             413326.0    413326.0    423527.0    453507.0    496835.0   \n",
       "Aruba                19286.0     19286.0     19555.0     20332.0     21423.0   \n",
       "Australia           351014.0    342440.0    334002.0    348143.0    434095.0   \n",
       "Austria            3205587.0   3286650.0   3391206.0   3538286.0   3728381.0   \n",
       "...                      ...         ...         ...         ...         ...   \n",
       "New Zealand         100000.0    100000.0    100000.0     91723.0     82479.0   \n",
       "Ngorno-Karabakh          NaN         NaN         NaN         NaN         NaN   \n",
       "Nicaragua           219387.0    219387.0    229075.0    258484.0    303135.0   \n",
       "Niger              1244861.0   1244861.0   1262280.0   1312557.0   1383237.0   \n",
       "Nigeria           12100855.0  12100855.0  12238319.0  12633330.0  13184823.0   \n",
       "\n",
       "                        1850        1860        1870        1880        1890  \\\n",
       "Total population                                                               \n",
       "Argentina          1113189.0   1421333.0   1856886.0   2493156.0   3402273.0   \n",
       "Armenia             544302.0    595928.0    652450.0    713957.0    781218.0   \n",
       "Aruba                22574.0     23786.0     25063.0     26404.0     27817.0   \n",
       "Australia           742619.0   1256048.0   1724213.0   2253007.0   3088808.0   \n",
       "Austria            3962619.0   4235926.0   4556658.0   4947026.0   5408503.0   \n",
       "...                      ...         ...         ...         ...         ...   \n",
       "New Zealand          94934.0    157114.0    301045.0    505065.0    669985.0   \n",
       "Ngorno-Karabakh          NaN         NaN         NaN         NaN         NaN   \n",
       "Nicaragua           345374.0    375911.0    405582.0    449633.0    505573.0   \n",
       "Niger              1457723.0   1543423.0   1634127.0   1729822.0   1831048.0   \n",
       "Nigeria           13760390.0  14374142.0  15015256.0  15683139.0  16380516.0   \n",
       "\n",
       "                  ...         2006         2007         2008         2009  \\\n",
       "Total population  ...                                                       \n",
       "Argentina         ...   39558750.0   39969903.0   40381860.0   40798641.0   \n",
       "Armenia           ...    3002161.0    2988117.0    2975029.0    2966108.0   \n",
       "Aruba             ...     100830.0     101218.0     101342.0     101416.0   \n",
       "Australia         ...   20606228.0   20975949.0   21370348.0   21770690.0   \n",
       "Austria           ...    8269372.0    8301290.0    8331465.0    8361362.0   \n",
       "...               ...          ...          ...          ...          ...   \n",
       "New Zealand       ...    4187584.0    4238021.0    4285380.0    4329124.0   \n",
       "Ngorno-Karabakh   ...          NaN          NaN          NaN          NaN   \n",
       "Nicaragua         ...    5450217.0    5522119.0    5594524.0    5666595.0   \n",
       "Niger             ...   13995530.0   14527631.0   15085130.0   15672194.0   \n",
       "Nigeria           ...  143318011.0  147152502.0  151115683.0  155207145.0   \n",
       "\n",
       "                         2010         2011         2012         2013  \\\n",
       "Total population                                                       \n",
       "Argentina          41222875.0   41655616.0   42095224.0   42538304.0   \n",
       "Armenia             2963496.0    2967984.0    2978339.0    2992192.0   \n",
       "Aruba                101597.0     101936.0     102393.0     102921.0   \n",
       "Australia          22162863.0   22542371.0   22911375.0   23270465.0   \n",
       "Austria             8391986.0    8423559.0    8455477.0    8486962.0   \n",
       "...                       ...          ...          ...          ...   \n",
       "New Zealand         4369027.0    4404483.0    4435883.0    4465276.0   \n",
       "Ngorno-Karabakh           NaN          NaN          NaN          NaN   \n",
       "Nicaragua           5737722.0    5807787.0    5877034.0    5945646.0   \n",
       "Niger              16291990.0   16946485.0   17635782.0   18358863.0   \n",
       "Nigeria           159424742.0  163770669.0  168240403.0  172816517.0   \n",
       "\n",
       "                         2014         2015  \n",
       "Total population                            \n",
       "Argentina          42980026.0   43416755.0  \n",
       "Armenia             3006154.0    3017712.0  \n",
       "Aruba                103441.0     103889.0  \n",
       "Australia          23622353.0   23968973.0  \n",
       "Austria             8516916.0    8544586.0  \n",
       "...                       ...          ...  \n",
       "New Zealand         4495482.0    4528526.0  \n",
       "Ngorno-Karabakh           NaN          NaN  \n",
       "Nicaragua           6013913.0    6082032.0  \n",
       "Niger              19113728.0   19899120.0  \n",
       "Nigeria           177475986.0  182201962.0  \n",
       "\n",
       "[155 rows x 81 columns]"
      ]
     },
     "execution_count": 14,
     "metadata": {},
     "output_type": "execute_result"
    }
   ],
   "source": [
    "df.loc[\"Argentina\":\"Nigeria\"]"
   ]
  },
  {
   "cell_type": "code",
   "execution_count": 19,
   "id": "d1503655",
   "metadata": {},
   "outputs": [
    {
     "data": {
      "text/plain": [
       "1800    True\n",
       "1810    True\n",
       "1820    True\n",
       "1830    True\n",
       "1840    True\n",
       "1850    True\n",
       "1860    True\n",
       "1870    True\n",
       "1880    True\n",
       "Name: Argentina, dtype: bool"
      ]
     },
     "execution_count": 19,
     "metadata": {},
     "output_type": "execute_result"
    }
   ],
   "source": [
    "\n",
    "df.loc[\"Argentina\", \"1800\":\"1888\"]>=200000 # CHECK\n"
   ]
  },
  {
   "cell_type": "code",
   "execution_count": 20,
   "id": "7d66f3d3",
   "metadata": {},
   "outputs": [
    {
     "ename": "TypeError",
     "evalue": "'('Argentina', slice(None, None, None))' is an invalid key",
     "output_type": "error",
     "traceback": [
      "\u001b[0;31m---------------------------------------------------------------------------\u001b[0m",
      "\u001b[0;31mTypeError\u001b[0m                                 Traceback (most recent call last)",
      "\u001b[0;32m<ipython-input-20-d40746d43120>\u001b[0m in \u001b[0;36m<module>\u001b[0;34m\u001b[0m\n\u001b[0;32m----> 1\u001b[0;31m \u001b[0mdf\u001b[0m\u001b[0;34m[\u001b[0m\u001b[0;34m\"Argentina\"\u001b[0m\u001b[0;34m,\u001b[0m\u001b[0;34m:\u001b[0m\u001b[0;34m]\u001b[0m\u001b[0;34m\u001b[0m\u001b[0;34m\u001b[0m\u001b[0m\n\u001b[0m",
      "\u001b[0;32m~/opt/anaconda3/lib/python3.8/site-packages/pandas/core/frame.py\u001b[0m in \u001b[0;36m__getitem__\u001b[0;34m(self, key)\u001b[0m\n\u001b[1;32m   3022\u001b[0m             \u001b[0;32mif\u001b[0m \u001b[0mself\u001b[0m\u001b[0;34m.\u001b[0m\u001b[0mcolumns\u001b[0m\u001b[0;34m.\u001b[0m\u001b[0mnlevels\u001b[0m \u001b[0;34m>\u001b[0m \u001b[0;36m1\u001b[0m\u001b[0;34m:\u001b[0m\u001b[0;34m\u001b[0m\u001b[0;34m\u001b[0m\u001b[0m\n\u001b[1;32m   3023\u001b[0m                 \u001b[0;32mreturn\u001b[0m \u001b[0mself\u001b[0m\u001b[0;34m.\u001b[0m\u001b[0m_getitem_multilevel\u001b[0m\u001b[0;34m(\u001b[0m\u001b[0mkey\u001b[0m\u001b[0;34m)\u001b[0m\u001b[0;34m\u001b[0m\u001b[0;34m\u001b[0m\u001b[0m\n\u001b[0;32m-> 3024\u001b[0;31m             \u001b[0mindexer\u001b[0m \u001b[0;34m=\u001b[0m \u001b[0mself\u001b[0m\u001b[0;34m.\u001b[0m\u001b[0mcolumns\u001b[0m\u001b[0;34m.\u001b[0m\u001b[0mget_loc\u001b[0m\u001b[0;34m(\u001b[0m\u001b[0mkey\u001b[0m\u001b[0;34m)\u001b[0m\u001b[0;34m\u001b[0m\u001b[0;34m\u001b[0m\u001b[0m\n\u001b[0m\u001b[1;32m   3025\u001b[0m             \u001b[0;32mif\u001b[0m \u001b[0mis_integer\u001b[0m\u001b[0;34m(\u001b[0m\u001b[0mindexer\u001b[0m\u001b[0;34m)\u001b[0m\u001b[0;34m:\u001b[0m\u001b[0;34m\u001b[0m\u001b[0;34m\u001b[0m\u001b[0m\n\u001b[1;32m   3026\u001b[0m                 \u001b[0mindexer\u001b[0m \u001b[0;34m=\u001b[0m \u001b[0;34m[\u001b[0m\u001b[0mindexer\u001b[0m\u001b[0;34m]\u001b[0m\u001b[0;34m\u001b[0m\u001b[0;34m\u001b[0m\u001b[0m\n",
      "\u001b[0;32m~/opt/anaconda3/lib/python3.8/site-packages/pandas/core/indexes/base.py\u001b[0m in \u001b[0;36mget_loc\u001b[0;34m(self, key, method, tolerance)\u001b[0m\n\u001b[1;32m   3078\u001b[0m             \u001b[0mcasted_key\u001b[0m \u001b[0;34m=\u001b[0m \u001b[0mself\u001b[0m\u001b[0;34m.\u001b[0m\u001b[0m_maybe_cast_indexer\u001b[0m\u001b[0;34m(\u001b[0m\u001b[0mkey\u001b[0m\u001b[0;34m)\u001b[0m\u001b[0;34m\u001b[0m\u001b[0;34m\u001b[0m\u001b[0m\n\u001b[1;32m   3079\u001b[0m             \u001b[0;32mtry\u001b[0m\u001b[0;34m:\u001b[0m\u001b[0;34m\u001b[0m\u001b[0;34m\u001b[0m\u001b[0m\n\u001b[0;32m-> 3080\u001b[0;31m                 \u001b[0;32mreturn\u001b[0m \u001b[0mself\u001b[0m\u001b[0;34m.\u001b[0m\u001b[0m_engine\u001b[0m\u001b[0;34m.\u001b[0m\u001b[0mget_loc\u001b[0m\u001b[0;34m(\u001b[0m\u001b[0mcasted_key\u001b[0m\u001b[0;34m)\u001b[0m\u001b[0;34m\u001b[0m\u001b[0;34m\u001b[0m\u001b[0m\n\u001b[0m\u001b[1;32m   3081\u001b[0m             \u001b[0;32mexcept\u001b[0m \u001b[0mKeyError\u001b[0m \u001b[0;32mas\u001b[0m \u001b[0merr\u001b[0m\u001b[0;34m:\u001b[0m\u001b[0;34m\u001b[0m\u001b[0;34m\u001b[0m\u001b[0m\n\u001b[1;32m   3082\u001b[0m                 \u001b[0;32mraise\u001b[0m \u001b[0mKeyError\u001b[0m\u001b[0;34m(\u001b[0m\u001b[0mkey\u001b[0m\u001b[0;34m)\u001b[0m \u001b[0;32mfrom\u001b[0m \u001b[0merr\u001b[0m\u001b[0;34m\u001b[0m\u001b[0;34m\u001b[0m\u001b[0m\n",
      "\u001b[0;32mpandas/_libs/index.pyx\u001b[0m in \u001b[0;36mpandas._libs.index.IndexEngine.get_loc\u001b[0;34m()\u001b[0m\n",
      "\u001b[0;32mpandas/_libs/index.pyx\u001b[0m in \u001b[0;36mpandas._libs.index.IndexEngine.get_loc\u001b[0;34m()\u001b[0m\n",
      "\u001b[0;31mTypeError\u001b[0m: '('Argentina', slice(None, None, None))' is an invalid key"
     ]
    }
   ],
   "source": [
    "df[\"Argentina\",:]"
   ]
  },
  {
   "cell_type": "code",
   "execution_count": null,
   "id": "bd8c6c5e",
   "metadata": {},
   "outputs": [],
   "source": [
    "# how to extract row vals without .loc?"
   ]
  },
  {
   "cell_type": "code",
   "execution_count": null,
   "id": "d14f6995",
   "metadata": {},
   "outputs": [],
   "source": [
    "df.loc[\"Argentina\":\"Nigeria\",\"1810\":\"1999\"]"
   ]
  },
  {
   "cell_type": "code",
   "execution_count": null,
   "id": "7b9f9203",
   "metadata": {},
   "outputs": [],
   "source": [
    "df.iloc[0:5]"
   ]
  },
  {
   "cell_type": "code",
   "execution_count": null,
   "id": "b45282b5",
   "metadata": {},
   "outputs": [],
   "source": [
    "df.iloc[0:5, 1:10]"
   ]
  },
  {
   "cell_type": "markdown",
   "id": "5be07fbf",
   "metadata": {},
   "source": [
    "[UP](#toc)\n",
    "<a id='masking'/>"
   ]
  },
  {
   "cell_type": "markdown",
   "id": "bac81c93",
   "metadata": {},
   "source": [
    "#### Use ```masking``` to select data based on condition"
   ]
  },
  {
   "cell_type": "code",
   "execution_count": null,
   "id": "110cf599",
   "metadata": {},
   "outputs": [],
   "source": [
    "df.head(2)"
   ]
  },
  {
   "cell_type": "code",
   "execution_count": null,
   "id": "25a0123f",
   "metadata": {},
   "outputs": [],
   "source": [
    "df[\n",
    "    df[\"1800\"]>=200000\n",
    "]"
   ]
  },
  {
   "cell_type": "code",
   "execution_count": null,
   "id": "b85d40a2",
   "metadata": {},
   "outputs": [],
   "source": [
    "df[\n",
    "    df.iloc[1:3, 1:10]>=200000\n",
    "]"
   ]
  },
  {
   "cell_type": "code",
   "execution_count": null,
   "id": "03b9c514",
   "metadata": {},
   "outputs": [],
   "source": [
    "# (df[\"1800\"]>=200000).to_frame() => Not a priority ;) "
   ]
  },
  {
   "cell_type": "markdown",
   "id": "bfeb6153",
   "metadata": {},
   "source": [
    "[UP](#toc)\n",
    "<a id='nan'/>"
   ]
  },
  {
   "cell_type": "markdown",
   "id": "0d8112eb",
   "metadata": {},
   "source": [
    "#### Find NaNs in a column and drop the rows containing an NaN"
   ]
  },
  {
   "cell_type": "code",
   "execution_count": null,
   "id": "47ee7cb3",
   "metadata": {},
   "outputs": [],
   "source": [
    "df_na = df.isna().sum()"
   ]
  },
  {
   "cell_type": "code",
   "execution_count": null,
   "id": "2b662bb7",
   "metadata": {},
   "outputs": [],
   "source": [
    "df.dropna(inplace = True)"
   ]
  },
  {
   "cell_type": "code",
   "execution_count": null,
   "id": "4ea3c641",
   "metadata": {},
   "outputs": [],
   "source": [
    "df.isna().sum()"
   ]
  },
  {
   "cell_type": "code",
   "execution_count": null,
   "id": "8ed204b5",
   "metadata": {},
   "outputs": [],
   "source": [
    "df.shape"
   ]
  },
  {
   "cell_type": "markdown",
   "id": "172c059c",
   "metadata": {},
   "source": [
    "[UP](#toc)\n",
    "<a id='save'/>"
   ]
  },
  {
   "cell_type": "markdown",
   "id": "0ee906da",
   "metadata": {},
   "source": [
    "#### Save DataFrame to ```csv``` or ```xlsx```"
   ]
  },
  {
   "cell_type": "code",
   "execution_count": null,
   "id": "24389e8f",
   "metadata": {},
   "outputs": [],
   "source": [
    "df.to_csv(\"population_modified.csv\")"
   ]
  },
  {
   "cell_type": "code",
   "execution_count": null,
   "id": "5e50fc9a",
   "metadata": {},
   "outputs": [],
   "source": [
    "df.to_excel(\"population_modified.xlsx\")"
   ]
  },
  {
   "cell_type": "markdown",
   "id": "b776cd30",
   "metadata": {},
   "source": [
    "[UP](#toc)\n",
    "<a id='plot'/>"
   ]
  },
  {
   "cell_type": "markdown",
   "id": "8c6b6f1f",
   "metadata": {},
   "source": [
    "#### Plot histogram "
   ]
  },
  {
   "cell_type": "code",
   "execution_count": null,
   "id": "75f4b90e",
   "metadata": {},
   "outputs": [],
   "source": [
    "df[\"1800\"].hist()"
   ]
  },
  {
   "cell_type": "code",
   "execution_count": null,
   "id": "2fc50891",
   "metadata": {},
   "outputs": [],
   "source": [
    "# Practice: implement the steps discussed above\n"
   ]
  }
 ],
 "metadata": {
  "kernelspec": {
   "display_name": "Python 3",
   "language": "python",
   "name": "python3"
  },
  "language_info": {
   "codemirror_mode": {
    "name": "ipython",
    "version": 3
   },
   "file_extension": ".py",
   "mimetype": "text/x-python",
   "name": "python",
   "nbconvert_exporter": "python",
   "pygments_lexer": "ipython3",
   "version": "3.8.8"
  },
  "vscode": {
   "interpreter": {
    "hash": "525591050f39bf26e5ee46414993eb03895542c3c666fba09c7fa1d32f7efc52"
   }
  }
 },
 "nbformat": 4,
 "nbformat_minor": 5
}