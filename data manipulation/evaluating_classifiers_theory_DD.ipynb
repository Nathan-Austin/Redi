  {
   "cell_type": "markdown",
   "metadata": {},
   "source": [
    "## Additional Learning Resources\n",
    "Refer to [scikit-learn documentation](https://scikit-learn.org/stable/) and the [Pandas user guide](https://pandas.pydata.org/docs/) for detailed explanations of the functions used in this notebook.\n",
    "For a quick refresher on splitting data:\n",
    "```python\nfrom sklearn.model_selection import train_test_split\nX_train, X_test, y_train, y_test = train_test_split(X, y, test_size=0.2, random_state=42)\n```\n"
   ]
  },
{
  "cell_type": "markdown",
  "metadata": {},
  "source": [
    "- Two new skin cancer detection classifiers have been developed and tested on 1000 images of patients’ skins of which 50 show signs of cancer\n",
    "- The first model predicts a high risk of cancer for 800 out of 1000 patients’ images in the test set. Of these 800 images 50 actually show signs of skin cancer. Hence, all problematic images are correctly identified.\n"
  ]
},
{
  "cell_type": "markdown",
  "metadata": {},
  "source": [
    "# Practice: implement the steps discussed above\n"
  ]
}
