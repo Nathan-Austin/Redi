  {
   "cell_type": "markdown",
   "metadata": {},
   "source": [
    "# Objectives"
   ]
  },
    "## Additional Learning Resources\n",
    "Refer to [scikit-learn documentation](https://scikit-learn.org/stable/) and the [Pandas user guide](https://pandas.pydata.org/docs/) for detailed explanations of the functions used in this notebook.\n",
    "For a quick refresher on splitting data:\n",
    "```python\nfrom sklearn.model_selection import train_test_split\nX_train, X_test, y_train, y_test = train_test_split(X, y, test_size=0.2, random_state=42)\n```\n"
    "- The first model predicts a high risk of cancer for 800 out of 1000 patients\u2019 images in the test set. Of these 800 images 50 actually show signs of skin cancer. Hence, all problematic images are correctly identified.\n",
}   "source": [
    "# Practice: implement the steps discussed above\n"
   ]